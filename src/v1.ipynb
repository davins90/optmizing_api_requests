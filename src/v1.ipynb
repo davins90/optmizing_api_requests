{
 "cells": [
  {
   "cell_type": "markdown",
   "id": "a029c828-e66e-4df1-bdda-194c5b350486",
   "metadata": {},
   "source": [
    "Esempio ottimizzazione a numeri interi per minimizzare il numero di gruppi da creare "
   ]
  },
  {
   "cell_type": "code",
   "execution_count": 1,
   "id": "c46dca82-b68d-40ad-86ba-29705bc1494f",
   "metadata": {},
   "outputs": [],
   "source": [
    "import pulp\n",
    "import json"
   ]
  },
  {
   "cell_type": "markdown",
   "id": "b56ba59b-4895-4181-a57d-d0650f20435b",
   "metadata": {},
   "source": [
    "# 1.0 Data Retrieval\n",
    "\n",
    "Recupero dati generati da Lu tramite API"
   ]
  },
  {
   "cell_type": "code",
   "execution_count": 2,
   "id": "b38c5550-8fd6-456a-b762-cc7dfcd1ad5c",
   "metadata": {},
   "outputs": [],
   "source": [
    "res = {\"query\": \"services.http.response.html_title: \\\"X Acceleration Codec\\\" or services.http.response.body: \\\"X Acceleration Codec\\\"\",\"field\": \"location.country\",\"total\": 2194,\"duration\": 1099,\"total_omitted\": 0,\"potential_deviation\": 0,\"buckets\": [{\"key\": \"Netherlands\",\"count\": 454},{\"key\": \"Spain\",\"count\": 392},{\"key\": \"Germany\",\"count\": 267},{\"key\": \"France\",\"count\": 246},{\"key\": \"United States\",\"count\": 139},{\"key\": \"Brazil\",\"count\": 108},{\"key\": \"United Kingdom\",\"count\": 59},{\"key\": \"Finland\",\"count\": 55},{\"key\": \"Bulgaria\",\"count\": 41},{\"key\": \"Italy\",\"count\": 39},{\"key\": \"Romania\",\"count\": 32},{\"key\": \"Ukraine\",\"count\": 32},{\"key\": \"Canada\",\"count\": 25},{\"key\": \"Serbia\",\"count\": 23},{\"key\": \"Bosnia and Herzegovina\",\"count\": 21},{\"key\": \"Thailand\",\"count\": 19},{\"key\": \"India\",\"count\": 18},{\"key\": \"Turkey\",\"count\": 16},{\"key\": \"Singapore\",\"count\": 15},{\"key\": \"Colombia\",\"count\": 14},{\"key\": \"Pakistan\",\"count\": 14},{\"key\": \"Poland\",\"count\": 14},{\"key\": \"Lithuania\",\"count\": 12},{\"key\": \"Israel\",\"count\": 10},{\"key\": \"Portugal\",\"count\": 10},{\"key\": \"Iraq\",\"count\": 9},{\"key\": \"Russia\",\"count\": 8},{\"key\": \"Croatia\",\"count\": 7},{\"key\": \"Sweden\",\"count\": 7},{\"key\": \"Austria\",\"count\": 6},{\"key\": \"Switzerland\",\"count\": 6},{\"key\": \"Indonesia\",\"count\": 5},{\"key\": \"Belgium\",\"count\": 4},{\"key\": \"Costa Rica\",\"count\": 4},{\"key\": \"Palestinian Territory\",\"count\": 4},{\"key\": \"Albania\",\"count\": 3},{\"key\": \"Australia\",\"count\": 3},{\"key\": \"Czech Republic\",\"count\": 3},{\"key\": \"Estonia\",\"count\": 3},{\"key\": \"Macedonia\",\"count\": 3},{\"key\": \"Peru\",\"count\": 3},{\"key\": \"South Africa\",\"count\": 3},{\"key\": \"Tunisia\",\"count\": 3},{\"key\": \"Argentina\",\"count\": 2},{\"key\": \"Cyprus\",\"count\": 2},{\"key\": \"Dominican Republic\",\"count\": 2},{\"key\": \"Hungary\",\"count\": 2},{\"key\": \"Iceland\",\"count\": 2},{\"key\": \"Ireland\",\"count\": 2},{\"key\": \"Paraguay\",\"count\": 2},{\"key\": \"United Arab Emirates\",\"count\": 2},{\"key\": \"Armenia\",\"count\": 1},{\"key\": \"Bolivia\",\"count\": 1},{\"key\": \"Chile\",\"count\": 1},{\"key\": \"Denmark\",\"count\": 1},{\"key\": \"Ecuador\",\"count\": 1},{\"key\": \"Egypt\",\"count\": 1},{\"key\": \"El Salvador\",\"count\": 1},{\"key\": \"French Polynesia\",\"count\": 1},{\"key\": \"Honduras\",\"count\": 1},{\"key\": \"Japan\",\"count\": 1},{\"key\": \"Jordan\",\"count\": 1},{\"key\": \"Malta\",\"count\": 1},{\"key\": \"Montenegro\",\"count\": 1},{\"key\": \"Morocco\",\"count\": 1},{\"key\": \"Myanmar\",\"count\": 1},{\"key\": \"Nepal\",\"count\": 1},{\"key\": \"Norway\",\"count\": 1},{\"key\": \"Slovakia\",\"count\": 1},{\"key\": \"Vietnam\",\"count\": 1}]}"
   ]
  },
  {
   "cell_type": "code",
   "execution_count": 3,
   "id": "59f095a2-68e3-4fa9-b177-7152c2c4ca3b",
   "metadata": {},
   "outputs": [],
   "source": [
    "data = res['buckets']"
   ]
  },
  {
   "cell_type": "code",
   "execution_count": 4,
   "id": "5e804797-34e2-4e88-a3ab-b813122b7a45",
   "metadata": {},
   "outputs": [
    {
     "data": {
      "text/plain": [
       "70"
      ]
     },
     "execution_count": 4,
     "metadata": {},
     "output_type": "execute_result"
    }
   ],
   "source": [
    "len(data)"
   ]
  },
  {
   "cell_type": "code",
   "execution_count": 5,
   "id": "9c52178c-fd1b-4b20-b1c6-c4310a419709",
   "metadata": {},
   "outputs": [
    {
     "data": {
      "text/plain": [
       "[{'key': 'Netherlands', 'count': 454},\n",
       " {'key': 'Spain', 'count': 392},\n",
       " {'key': 'Germany', 'count': 267},\n",
       " {'key': 'France', 'count': 246}]"
      ]
     },
     "execution_count": 5,
     "metadata": {},
     "output_type": "execute_result"
    }
   ],
   "source": [
    "data[0:4]"
   ]
  },
  {
   "cell_type": "markdown",
   "id": "a6c5cd8b-3ddf-4613-9f9b-fe5878a7617a",
   "metadata": {},
   "source": [
    "# 2.0 Definizione problema"
   ]
  },
  {
   "cell_type": "code",
   "execution_count": 6,
   "id": "dde9e88c-7b3d-4d32-8eec-cfbee55eaebf",
   "metadata": {},
   "outputs": [],
   "source": [
    "# Capacità massima per gruppo\n",
    "capacity = 1000\n",
    "\n",
    "# Prepara i dati\n",
    "countries = [item['key'] for item in data]\n",
    "counts = [item['count'] for item in data]\n",
    "num_items = len(countries)\n",
    "\n",
    "# Stima superiore del numero di gruppi (ogni paese in un gruppo separato)\n",
    "num_bins = num_items"
   ]
  },
  {
   "cell_type": "code",
   "execution_count": 7,
   "id": "0ae17c56-885e-4e47-8393-21fd2aa9f070",
   "metadata": {},
   "outputs": [
    {
     "name": "stderr",
     "output_type": "stream",
     "text": [
      "/opt/conda/lib/python3.10/site-packages/pulp/pulp.py:1298: UserWarning: Spaces are not permitted in the name. Converted to '_'\n",
      "  warnings.warn(\"Spaces are not permitted in the name. Converted to '_'\")\n"
     ]
    },
    {
     "name": "stdout",
     "output_type": "stream",
     "text": [
      "Welcome to the CBC MILP Solver \n",
      "Version: 2.10.3 \n",
      "Build Date: Dec 15 2019 \n",
      "\n",
      "command line - /opt/conda/lib/python3.10/site-packages/pulp/solverdir/cbc/linux/64/cbc /tmp/988c1c2c7b354ee9820413fe39c92abc-pulp.mps -timeMode elapsed -branch -printingOptions all -solution /tmp/988c1c2c7b354ee9820413fe39c92abc-pulp.sol (default strategy 1)\n",
      "At line 2 NAME          MODEL\n",
      "At line 3 ROWS\n",
      "At line 145 COLUMNS\n",
      "At line 20026 RHS\n",
      "At line 20167 BOUNDS\n",
      "At line 25138 ENDATA\n",
      "Problem MODEL has 140 rows, 4970 columns and 9870 elements\n",
      "Coin0008I MODEL read with 0 errors\n",
      "Option for timeMode changed from cpu to elapsed\n",
      "Continuous objective value is 2.194 - 0.01 seconds\n",
      "Cgl0004I processed model has 140 rows, 4970 columns (4970 integer (4970 of which binary)) and 9870 elements\n",
      "Cutoff increment increased from 1e-05 to 0.9999\n",
      "Cbc0045I 70 integer variables out of 4970 objects (4970 integer) have cost of 1 - high priority\n",
      "Cbc0045I branch on satisfied N create fake objective Y random cost Y\n",
      "Cbc0038I Initial state - 5 integers unsatisfied sum - 1.56393\n",
      "Cbc0038I Pass   1: suminf.    1.19400 (4) obj. 2.194 iterations 37\n",
      "Cbc0038I Pass   2: suminf.    1.19400 (4) obj. 2.194 iterations 0\n",
      "Cbc0038I Pass   3: suminf.    0.70044 (2) obj. 3 iterations 75\n",
      "Cbc0038I Solution found of 3\n",
      "Cbc0038I Before mini branch and bound, 4962 integers at bound fixed and 0 continuous\n",
      "Cbc0038I Mini branch and bound did not improve solution (0.09 seconds)\n",
      "Cbc0038I After 0.09 seconds - Feasibility pump exiting with objective of 3 - took 0.01 seconds\n",
      "Cbc0012I Integer solution of 3 found by feasibility pump after 0 iterations and 0 nodes (0.09 seconds)\n",
      "Cbc0001I Search completed - best objective 3, took 0 iterations and 0 nodes (0.10 seconds)\n",
      "Cbc0035I Maximum depth 0, 0 variables fixed on reduced cost\n",
      "Cuts at root node changed objective from 2.194 to 2.194\n",
      "Probing was tried 0 times and created 0 cuts of which 0 were active after adding rounds of cuts (0.000 seconds)\n",
      "Gomory was tried 0 times and created 0 cuts of which 0 were active after adding rounds of cuts (0.000 seconds)\n",
      "Knapsack was tried 0 times and created 0 cuts of which 0 were active after adding rounds of cuts (0.000 seconds)\n",
      "Clique was tried 0 times and created 0 cuts of which 0 were active after adding rounds of cuts (0.000 seconds)\n",
      "MixedIntegerRounding2 was tried 0 times and created 0 cuts of which 0 were active after adding rounds of cuts (0.000 seconds)\n",
      "FlowCover was tried 0 times and created 0 cuts of which 0 were active after adding rounds of cuts (0.000 seconds)\n",
      "TwoMirCuts was tried 0 times and created 0 cuts of which 0 were active after adding rounds of cuts (0.000 seconds)\n",
      "ZeroHalf was tried 0 times and created 0 cuts of which 0 were active after adding rounds of cuts (0.000 seconds)\n",
      "\n",
      "Result - Optimal solution found\n",
      "\n",
      "Objective value:                3.00000000\n",
      "Enumerated nodes:               0\n",
      "Total iterations:               0\n",
      "Time (CPU seconds):             0.10\n",
      "Time (Wallclock seconds):       0.10\n",
      "\n",
      "Option for printingOptions changed from normal to all\n",
      "Total time (CPU seconds):       0.11   (Wallclock seconds):       0.11\n",
      "\n"
     ]
    },
    {
     "data": {
      "text/plain": [
       "1"
      ]
     },
     "execution_count": 7,
     "metadata": {},
     "output_type": "execute_result"
    }
   ],
   "source": [
    "# Creazione del problema\n",
    "prob = pulp.LpProblem(\"Ottimizzare chiamate API a Censys\", pulp.LpMinimize)\n",
    "\n",
    "# Variabili di decisione\n",
    "x = pulp.LpVariable.dicts('x', ((i,j) for i in range(num_items) for j in range(num_bins)), cat='Binary')\n",
    "y = pulp.LpVariable.dicts('y', (j for j in range(num_bins)), cat='Binary')\n",
    "\n",
    "# Funzione obiettivo: minimizzare il numero di gruppi utilizzati\n",
    "prob += pulp.lpSum([y[j] for j in range(num_bins)])\n",
    "\n",
    "# Vincolo: ogni paese deve essere assegnato esattamente a un gruppo\n",
    "for i in range(num_items):\n",
    "    prob += pulp.lpSum([x[(i,j)] for j in range(num_bins)]) == 1\n",
    "\n",
    "# Vincolo: la somma dei conteggi in ogni gruppo non deve superare la capacità\n",
    "for j in range(num_bins):\n",
    "    prob += pulp.lpSum([counts[i] * x[(i,j)] for i in range(num_items)]) <= capacity * y[j]\n",
    "\n",
    "# Risoluzione del problema\n",
    "prob.solve()"
   ]
  },
  {
   "cell_type": "code",
   "execution_count": 8,
   "id": "3d6fe8c7-1ccc-4f31-ad80-9bb7f08b70f1",
   "metadata": {},
   "outputs": [
    {
     "name": "stdout",
     "output_type": "stream",
     "text": [
      "Status: Optimal\n"
     ]
    }
   ],
   "source": [
    "# Stato della soluzione\n",
    "print(\"Status:\", pulp.LpStatus[prob.status])\n",
    "\n",
    "# Raggruppamento dei paesi per gruppo\n",
    "bins = {}\n",
    "for j in range(num_bins):\n",
    "    if y[j].varValue > 0.5:\n",
    "        bins[j] = []\n",
    "        for i in range(num_items):\n",
    "            if x[(i,j)].varValue > 0.5:\n",
    "                bins[j].append((countries[i], counts[i]))"
   ]
  },
  {
   "cell_type": "code",
   "execution_count": 9,
   "id": "208ace14-8561-4285-82ec-d18509a84c0f",
   "metadata": {},
   "outputs": [
    {
     "name": "stdout",
     "output_type": "stream",
     "text": [
      "Numero totale di gruppi individuati: 3\n",
      "==================================================\n",
      "Gruppo 1: Totale = 899\n",
      " - Germany: 267\n",
      " - Brazil: 108\n",
      " - United Kingdom: 59\n",
      " - Finland: 55\n",
      " - Bulgaria: 41\n",
      " - Italy: 39\n",
      " - Canada: 25\n",
      " - Serbia: 23\n",
      " - Bosnia and Herzegovina: 21\n",
      " - Thailand: 19\n",
      " - India: 18\n",
      " - Turkey: 16\n",
      " - Singapore: 15\n",
      " - Colombia: 14\n",
      " - Pakistan: 14\n",
      " - Poland: 14\n",
      " - Lithuania: 12\n",
      " - Israel: 10\n",
      " - Portugal: 10\n",
      " - Iraq: 9\n",
      " - Russia: 8\n",
      " - Croatia: 7\n",
      " - Sweden: 7\n",
      " - Austria: 6\n",
      " - Switzerland: 6\n",
      " - Indonesia: 5\n",
      " - Belgium: 4\n",
      " - Costa Rica: 4\n",
      " - Palestinian Territory: 4\n",
      " - Albania: 3\n",
      " - Australia: 3\n",
      " - Czech Republic: 3\n",
      " - Estonia: 3\n",
      " - Macedonia: 3\n",
      " - Peru: 3\n",
      " - South Africa: 3\n",
      " - Tunisia: 3\n",
      " - Argentina: 2\n",
      " - Cyprus: 2\n",
      " - Dominican Republic: 2\n",
      " - Hungary: 2\n",
      " - Iceland: 2\n",
      " - Ireland: 2\n",
      " - Paraguay: 2\n",
      " - United Arab Emirates: 2\n",
      " - Armenia: 1\n",
      " - Bolivia: 1\n",
      " - Chile: 1\n",
      " - Denmark: 1\n",
      " - Ecuador: 1\n",
      " - Egypt: 1\n",
      " - El Salvador: 1\n",
      " - French Polynesia: 1\n",
      " - Honduras: 1\n",
      " - Japan: 1\n",
      " - Jordan: 1\n",
      " - Malta: 1\n",
      " - Montenegro: 1\n",
      " - Morocco: 1\n",
      " - Myanmar: 1\n",
      " - Nepal: 1\n",
      " - Norway: 1\n",
      " - Slovakia: 1\n",
      " - Vietnam: 1\n",
      "--------------------------------------------------\n",
      "Gruppo 2: Totale = 841\n",
      " - Spain: 392\n",
      " - France: 246\n",
      " - United States: 139\n",
      " - Romania: 32\n",
      " - Ukraine: 32\n",
      "--------------------------------------------------\n",
      "Gruppo 9: Totale = 454\n",
      " - Netherlands: 454\n",
      "--------------------------------------------------\n"
     ]
    }
   ],
   "source": [
    "# Visualizzazione dei gruppi\n",
    "total_groups = len(bins)\n",
    "print(f\"Numero totale di gruppi individuati: {total_groups}\")\n",
    "print(\"=\" * 50)\n",
    "for bin_index, bin_items in bins.items():\n",
    "    total_count = sum([count for country, count in bin_items])\n",
    "    print(f\"Gruppo {bin_index + 1}: Totale = {total_count}\")\n",
    "    for country, count in bin_items:\n",
    "        print(f\" - {country}: {count}\")\n",
    "    print(\"-\" * 50)"
   ]
  },
  {
   "cell_type": "code",
   "execution_count": null,
   "id": "fedfe0bc-7a9d-42da-ac01-983c6ef704ea",
   "metadata": {},
   "outputs": [],
   "source": []
  }
 ],
 "metadata": {
  "kernelspec": {
   "display_name": "Python 3 (ipykernel)",
   "language": "python",
   "name": "python3"
  },
  "language_info": {
   "codemirror_mode": {
    "name": "ipython",
    "version": 3
   },
   "file_extension": ".py",
   "mimetype": "text/x-python",
   "name": "python",
   "nbconvert_exporter": "python",
   "pygments_lexer": "ipython3",
   "version": "3.10.11"
  }
 },
 "nbformat": 4,
 "nbformat_minor": 5
}
