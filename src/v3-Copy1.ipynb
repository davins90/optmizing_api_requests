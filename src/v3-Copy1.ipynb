{
 "cells": [
  {
   "cell_type": "markdown",
   "id": "5eb00a8c-4952-4f0f-8e23-98babfb45325",
   "metadata": {},
   "source": [
    "Minimizzare sia per il numero di gruppi da creare sia per il costo delle chiamate api, il cui costo è pari a 1 per ogni gruppo e pari a 1 ogni 100 ip, sempre con il vincolo che al massimo in un gruppo ci possono essere 1000 ip. COPIA DI BACKUP"
   ]
  },
  {
   "cell_type": "code",
   "execution_count": 1,
   "id": "90298c50-ae5f-4c45-ba94-f7be843a9d8c",
   "metadata": {},
   "outputs": [],
   "source": [
    "import pulp\n",
    "import math"
   ]
  },
  {
   "cell_type": "code",
   "execution_count": 2,
   "id": "3e6aa9c9-2c13-4958-a3e1-8faf41a8ccb6",
   "metadata": {},
   "outputs": [],
   "source": [
    "res = {\"query\": \"services.http.response.html_title: \\\"X Acceleration Codec\\\" or services.http.response.body: \\\"X Acceleration Codec\\\"\",\"field\": \"location.country\",\"total\": 2194,\"duration\": 1099,\"total_omitted\": 0,\"potential_deviation\": 0,\"buckets\": [{\"key\": \"Netherlands\",\"count\": 454},{\"key\": \"Spain\",\"count\": 392},{\"key\": \"Germany\",\"count\": 267},{\"key\": \"France\",\"count\": 246},{\"key\": \"United States\",\"count\": 139},{\"key\": \"Brazil\",\"count\": 108},{\"key\": \"United Kingdom\",\"count\": 59},{\"key\": \"Finland\",\"count\": 55},{\"key\": \"Bulgaria\",\"count\": 41},{\"key\": \"Italy\",\"count\": 39},{\"key\": \"Romania\",\"count\": 32},{\"key\": \"Ukraine\",\"count\": 32},{\"key\": \"Canada\",\"count\": 25},{\"key\": \"Serbia\",\"count\": 23},{\"key\": \"Bosnia and Herzegovina\",\"count\": 21},{\"key\": \"Thailand\",\"count\": 19},{\"key\": \"India\",\"count\": 18},{\"key\": \"Turkey\",\"count\": 16},{\"key\": \"Singapore\",\"count\": 15},{\"key\": \"Colombia\",\"count\": 14},{\"key\": \"Pakistan\",\"count\": 14},{\"key\": \"Poland\",\"count\": 14},{\"key\": \"Lithuania\",\"count\": 12},{\"key\": \"Israel\",\"count\": 10},{\"key\": \"Portugal\",\"count\": 10},{\"key\": \"Iraq\",\"count\": 9},{\"key\": \"Russia\",\"count\": 8},{\"key\": \"Croatia\",\"count\": 7},{\"key\": \"Sweden\",\"count\": 7},{\"key\": \"Austria\",\"count\": 6},{\"key\": \"Switzerland\",\"count\": 6},{\"key\": \"Indonesia\",\"count\": 5},{\"key\": \"Belgium\",\"count\": 4},{\"key\": \"Costa Rica\",\"count\": 4},{\"key\": \"Palestinian Territory\",\"count\": 4},{\"key\": \"Albania\",\"count\": 3},{\"key\": \"Australia\",\"count\": 3},{\"key\": \"Czech Republic\",\"count\": 3},{\"key\": \"Estonia\",\"count\": 3},{\"key\": \"Macedonia\",\"count\": 3},{\"key\": \"Peru\",\"count\": 3},{\"key\": \"South Africa\",\"count\": 3},{\"key\": \"Tunisia\",\"count\": 3},{\"key\": \"Argentina\",\"count\": 2},{\"key\": \"Cyprus\",\"count\": 2},{\"key\": \"Dominican Republic\",\"count\": 2},{\"key\": \"Hungary\",\"count\": 2},{\"key\": \"Iceland\",\"count\": 2},{\"key\": \"Ireland\",\"count\": 2},{\"key\": \"Paraguay\",\"count\": 2},{\"key\": \"United Arab Emirates\",\"count\": 2},{\"key\": \"Armenia\",\"count\": 1},{\"key\": \"Bolivia\",\"count\": 1},{\"key\": \"Chile\",\"count\": 1},{\"key\": \"Denmark\",\"count\": 1},{\"key\": \"Ecuador\",\"count\": 1},{\"key\": \"Egypt\",\"count\": 1},{\"key\": \"El Salvador\",\"count\": 1},{\"key\": \"French Polynesia\",\"count\": 1},{\"key\": \"Honduras\",\"count\": 1},{\"key\": \"Japan\",\"count\": 1},{\"key\": \"Jordan\",\"count\": 1},{\"key\": \"Malta\",\"count\": 1},{\"key\": \"Montenegro\",\"count\": 1},{\"key\": \"Morocco\",\"count\": 1},{\"key\": \"Myanmar\",\"count\": 1},{\"key\": \"Nepal\",\"count\": 1},{\"key\": \"Norway\",\"count\": 1},{\"key\": \"Slovakia\",\"count\": 1},{\"key\": \"Vietnam\",\"count\": 1}]}"
   ]
  },
  {
   "cell_type": "code",
   "execution_count": 3,
   "id": "e93ff46e-9d50-4b77-a9cc-3a9a0f2e76c0",
   "metadata": {},
   "outputs": [],
   "source": [
    "data = res['buckets']"
   ]
  },
  {
   "cell_type": "code",
   "execution_count": 4,
   "id": "126f54e5-31e2-461b-a45f-4db0c3fd3480",
   "metadata": {},
   "outputs": [
    {
     "data": {
      "text/plain": [
       "70"
      ]
     },
     "execution_count": 4,
     "metadata": {},
     "output_type": "execute_result"
    }
   ],
   "source": [
    "len(data)"
   ]
  },
  {
   "cell_type": "code",
   "execution_count": 5,
   "id": "2401473b-bdc7-42d4-9b18-d707e68f74d5",
   "metadata": {},
   "outputs": [],
   "source": [
    "# Maximum capacity per group\n",
    "capacity = 1000\n",
    "\n",
    "# Prepare data\n",
    "countries = [item['key'] for item in data]\n",
    "counts = [item['count'] for item in data]\n",
    "num_items = len(countries)\n",
    "num_bins = num_items  # Upper bound on the number of groups"
   ]
  },
  {
   "cell_type": "code",
   "execution_count": 6,
   "id": "a09bd29d-e881-4624-980a-49abc0dfef01",
   "metadata": {},
   "outputs": [
    {
     "name": "stderr",
     "output_type": "stream",
     "text": [
      "/opt/conda/lib/python3.10/site-packages/pulp/pulp.py:1298: UserWarning: Spaces are not permitted in the name. Converted to '_'\n",
      "  warnings.warn(\"Spaces are not permitted in the name. Converted to '_'\")\n"
     ]
    },
    {
     "name": "stdout",
     "output_type": "stream",
     "text": [
      "Welcome to the CBC MILP Solver \n",
      "Version: 2.10.3 \n",
      "Build Date: Dec 15 2019 \n",
      "\n",
      "command line - /opt/conda/lib/python3.10/site-packages/pulp/solverdir/cbc/linux/64/cbc /tmp/da41880179744d1db3f33336f22371f7-pulp.mps -timeMode elapsed -branch -printingOptions all -solution /tmp/da41880179744d1db3f33336f22371f7-pulp.sol (default strategy 1)\n",
      "At line 2 NAME          MODEL\n",
      "At line 3 ROWS\n",
      "At line 5325 COLUMNS\n",
      "At line 35846 RHS\n",
      "At line 41167 BOUNDS\n",
      "At line 46208 ENDATA\n",
      "Problem MODEL has 5320 rows, 5110 columns and 20300 elements\n",
      "Coin0008I MODEL read with 0 errors\n",
      "Option for timeMode changed from cpu to elapsed\n",
      "Continuous objective value is 24.134 - 0.02 seconds\n",
      "Cgl0003I 0 fixed, 70 tightened bounds, 0 strengthened rows, 0 substitutions\n",
      "Cgl0004I processed model has 5320 rows, 5110 columns (5040 integer (4970 of which binary)) and 20300 elements\n",
      "Cutoff increment increased from 1e-05 to 0.9999\n",
      "Cbc0038I Initial state - 33 integers unsatisfied sum - 6.4882\n",
      "Cbc0038I Pass   1: (0.20 seconds) suminf.    1.24707 (6) obj. 24.2285 iterations 809\n",
      "Cbc0038I Pass   2: (0.22 seconds) suminf.    0.98000 (3) obj. 24.94 iterations 180\n",
      "Cbc0038I Solution found of 24.94\n",
      "Cbc0038I Branch and bound needed to clear up 3 general integers\n",
      "Cbc0038I Full problem 5320 rows 5110 columns, reduced to 0 rows 0 columns\n",
      "Cbc0038I Cleaned solution of 26\n",
      "Cbc0038I Before mini branch and bound, 5000 integers at bound fixed and 66 continuous\n",
      "Cbc0038I Full problem 5320 rows 5110 columns, reduced to 30 rows 27 columns\n",
      "Cbc0038I Mini branch and bound did not improve solution (0.25 seconds)\n",
      "Cbc0038I Round again with cutoff of 24.9135\n",
      "Cbc0038I Pass   3: (0.26 seconds) suminf.    1.24707 (6) obj. 24.2285 iterations 0\n",
      "Cbc0038I Pass   4: (0.28 seconds) suminf.    0.66400 (8) obj. 24.9135 iterations 273\n",
      "Cbc0038I Pass   5: (0.29 seconds) suminf.    1.23803 (6) obj. 24.2153 iterations 216\n",
      "Cbc0038I Pass   6: (0.36 seconds) suminf.    1.12081 (18) obj. 24.9135 iterations 1042\n",
      "Cbc0038I Pass   7: (0.43 seconds) suminf.    0.64638 (18) obj. 24.9135 iterations 1415\n",
      "Cbc0038I Pass   8: (0.46 seconds) suminf.    0.66400 (8) obj. 24.9135 iterations 417\n",
      "Cbc0038I Pass   9: (0.46 seconds) suminf.    0.66400 (8) obj. 24.9135 iterations 0\n",
      "Cbc0038I Pass  10: (0.75 seconds) suminf.    1.25761 (6) obj. 24.244 iterations 1596\n",
      "Cbc0038I Pass  11: (0.80 seconds) suminf.    0.66400 (8) obj. 24.9135 iterations 346\n",
      "Cbc0038I Pass  12: (0.97 seconds) suminf.    4.06505 (27) obj. 24.9135 iterations 1368\n",
      "Cbc0038I Pass  13: (1.10 seconds) suminf.    0.97189 (17) obj. 24.9135 iterations 1513\n",
      "Cbc0038I Pass  14: (1.15 seconds) suminf.    1.76387 (11) obj. 24.9135 iterations 403\n",
      "Cbc0038I Pass  15: (1.17 seconds) suminf.    1.76333 (11) obj. 24.9135 iterations 91\n",
      "Cbc0038I Pass  16: (1.37 seconds) suminf.    1.57173 (7) obj. 24.1693 iterations 1056\n",
      "Cbc0038I Pass  17: (1.44 seconds) suminf.    1.33140 (6) obj. 24.3519 iterations 340\n",
      "Cbc0038I Pass  18: (1.48 seconds) suminf.    1.07255 (8) obj. 24.9135 iterations 354\n",
      "Cbc0038I Pass  19: (1.63 seconds) suminf.    1.83062 (15) obj. 24.9135 iterations 1208\n",
      "Cbc0038I Pass  20: (1.76 seconds) suminf.    1.70963 (15) obj. 24.9135 iterations 1464\n",
      "Cbc0038I Pass  21: (1.81 seconds) suminf.    1.14719 (7) obj. 24.9135 iterations 419\n",
      "Cbc0038I Pass  22: (1.84 seconds) suminf.    1.14719 (7) obj. 24.9135 iterations 146\n",
      "Cbc0038I Pass  23: (2.14 seconds) suminf.    1.25305 (7) obj. 24.1693 iterations 1410\n",
      "Cbc0038I Pass  24: (2.27 seconds) suminf.    1.57563 (9) obj. 24.1926 iterations 703\n",
      "Cbc0038I Pass  25: (2.32 seconds) suminf.    1.04471 (8) obj. 24.9135 iterations 361\n",
      "Cbc0038I Pass  26: (2.32 seconds) suminf.    1.04471 (8) obj. 24.9135 iterations 0\n",
      "Cbc0038I Pass  27: (2.75 seconds) suminf.    1.29224 (6) obj. 24.2946 iterations 2806\n",
      "Cbc0038I Pass  28: (3.17 seconds) suminf.    1.60649 (27) obj. 24.9135 iterations 2869\n",
      "Cbc0038I No solution found this major pass\n",
      "Cbc0038I After 3.17 seconds - Feasibility pump exiting with objective of 26 - took 3.01 seconds\n",
      "Cbc0012I Integer solution of 26 found by feasibility pump after 0 iterations and 0 nodes (3.17 seconds)\n",
      "Cbc0038I Full problem 5320 rows 5110 columns, reduced to 30 rows 27 columns\n",
      "Cbc0031I 3 added rows had average density of 1091.3333\n",
      "Cbc0013I At root node, 3 cuts changed objective from 24.134 to 24.94 in 10 passes\n",
      "Cbc0014I Cut generator 0 (Probing) - 2 row cuts average 64.5 elements, 0 column cuts (0 active)  in 0.163 seconds - new frequency is -100\n",
      "Cbc0014I Cut generator 1 (Gomory) - 33 row cuts average 2383.3 elements, 0 column cuts (0 active)  in 0.032 seconds - new frequency is -100\n",
      "Cbc0014I Cut generator 2 (Knapsack) - 0 row cuts average 0.0 elements, 0 column cuts (0 active)  in 0.012 seconds - new frequency is -100\n",
      "Cbc0014I Cut generator 3 (Clique) - 0 row cuts average 0.0 elements, 0 column cuts (0 active)  in 0.001 seconds - new frequency is -100\n",
      "Cbc0014I Cut generator 4 (MixedIntegerRounding2) - 36 row cuts average 136.1 elements, 0 column cuts (0 active)  in 0.018 seconds - new frequency is 1\n",
      "Cbc0014I Cut generator 5 (FlowCover) - 6 row cuts average 26.3 elements, 0 column cuts (0 active)  in 0.004 seconds - new frequency is 1\n",
      "Cbc0014I Cut generator 6 (TwoMirCuts) - 21 row cuts average 242.6 elements, 0 column cuts (0 active)  in 0.021 seconds - new frequency is 1\n",
      "Cbc0010I After 0 nodes, 1 on tree, 26 best solution, best possible 24.94 (3.71 seconds)\n",
      "Cbc0012I Integer solution of 25 found by DiveCoefficient after 2925 iterations and 31 nodes (6.58 seconds)\n",
      "Cbc0001I Search completed - best objective 25, took 2925 iterations and 31 nodes (6.58 seconds)\n",
      "Cbc0032I Strong branching done 336 times (7567 iterations), fathomed 0 nodes and fixed 5 variables\n",
      "Cbc0035I Maximum depth 15, 0 variables fixed on reduced cost\n",
      "Cuts at root node changed objective from 24.134 to 24.94\n",
      "Probing was tried 10 times and created 2 cuts of which 0 were active after adding rounds of cuts (0.163 seconds)\n",
      "Gomory was tried 10 times and created 33 cuts of which 0 were active after adding rounds of cuts (0.032 seconds)\n",
      "Knapsack was tried 10 times and created 0 cuts of which 0 were active after adding rounds of cuts (0.012 seconds)\n",
      "Clique was tried 10 times and created 0 cuts of which 0 were active after adding rounds of cuts (0.001 seconds)\n",
      "MixedIntegerRounding2 was tried 26 times and created 48 cuts of which 0 were active after adding rounds of cuts (0.039 seconds)\n",
      "FlowCover was tried 26 times and created 38 cuts of which 0 were active after adding rounds of cuts (0.007 seconds)\n",
      "TwoMirCuts was tried 26 times and created 25 cuts of which 0 were active after adding rounds of cuts (0.032 seconds)\n",
      "ZeroHalf was tried 1 times and created 0 cuts of which 0 were active after adding rounds of cuts (0.009 seconds)\n",
      "\n",
      "Result - Optimal solution found\n",
      "\n",
      "Objective value:                25.00000000\n",
      "Enumerated nodes:               31\n",
      "Total iterations:               2925\n",
      "Time (CPU seconds):             6.58\n",
      "Time (Wallclock seconds):       6.60\n",
      "\n",
      "Option for printingOptions changed from normal to all\n",
      "Total time (CPU seconds):       6.58   (Wallclock seconds):       6.61\n",
      "\n"
     ]
    },
    {
     "data": {
      "text/plain": [
       "1"
      ]
     },
     "execution_count": 6,
     "metadata": {},
     "output_type": "execute_result"
    }
   ],
   "source": [
    "# Create the problem\n",
    "prob = pulp.LpProblem(\"Minimize Total Cost\", pulp.LpMinimize)\n",
    "\n",
    "# Decision variables\n",
    "x = pulp.LpVariable.dicts('x', ((i, j) for i in range(num_items) for j in range(num_bins)), cat='Binary')\n",
    "y = pulp.LpVariable.dicts('y', (j for j in range(num_bins)), cat='Binary')\n",
    "s = pulp.LpVariable.dicts('s', (j for j in range(num_bins)), lowBound=0, cat='Continuous')\n",
    "c = pulp.LpVariable.dicts('c', (j for j in range(num_bins)), lowBound=0, cat='Integer')\n",
    "\n",
    "# Objective function: Minimize total cost\n",
    "prob += pulp.lpSum(y[j] + c[j] for j in range(num_bins))\n",
    "\n",
    "# Constraints\n",
    "\n",
    "# 1. Assignment Constraint\n",
    "for i in range(num_items):\n",
    "    prob += pulp.lpSum(x[(i, j)] for j in range(num_bins)) == 1\n",
    "\n",
    "# 2. Group Capacity Constraint\n",
    "for j in range(num_bins):\n",
    "    # Total IPs in group j\n",
    "    prob += s[j] == pulp.lpSum(counts[i] * x[(i, j)] for i in range(num_items))\n",
    "    # Capacity constraint\n",
    "    prob += s[j] <= capacity * y[j]\n",
    "\n",
    "# 3. Variable Relationships\n",
    "for i in range(num_items):\n",
    "    for j in range(num_bins):\n",
    "        prob += x[(i, j)] <= y[j]\n",
    "\n",
    "# 4. IP Cost Calculation Constraints\n",
    "for j in range(num_bins):\n",
    "    # s_j <= 100 * c_j\n",
    "    prob += s[j] <= 100 * c[j]\n",
    "    # s_j >= 100 * (c_j - 1) + 1\n",
    "    prob += s[j] >= 100 * (c[j] - 1) + 1 - (1 - y[j]) * capacity\n",
    "\n",
    "# 5. Consistency Constraints for Unused Groups\n",
    "for j in range(num_bins):\n",
    "    # If y_j == 0, then c_j == 0\n",
    "    prob += c[j] <= (capacity // 100) * y[j]\n",
    "\n",
    "# Solve the problem\n",
    "prob.solve()"
   ]
  },
  {
   "cell_type": "code",
   "execution_count": 7,
   "id": "34afe5f8-3206-46bf-80f6-f3f8fcfaf309",
   "metadata": {},
   "outputs": [
    {
     "name": "stdout",
     "output_type": "stream",
     "text": [
      "Status: Optimal\n"
     ]
    }
   ],
   "source": [
    "# Solution status\n",
    "print(\"Status:\", pulp.LpStatus[prob.status])\n",
    "\n",
    "# Collect used groups\n",
    "bins = {}\n",
    "for j in range(num_bins):\n",
    "    if y[j].varValue > 0.5:\n",
    "        bin_items = []\n",
    "        total_count = 0\n",
    "        for i in range(num_items):\n",
    "            if x[(i, j)].varValue > 0.5:\n",
    "                bin_items.append((countries[i], counts[i]))\n",
    "                total_count += counts[i]\n",
    "        if total_count > 0:\n",
    "            group_cost = 1  # Cost per group\n",
    "            ip_cost = math.ceil(total_count / 100)  # Cost per 100 IPs\n",
    "            total_group_cost = group_cost + ip_cost\n",
    "            bins[j] = {\n",
    "                'items': bin_items,\n",
    "                'total_count': total_count,\n",
    "                'group_cost': group_cost,\n",
    "                'ip_cost': ip_cost,\n",
    "                'total_group_cost': total_group_cost\n",
    "            }\n",
    "\n",
    "# Calculate total cost\n",
    "total_cost = sum(bin_info['total_group_cost'] for bin_info in bins.values())\n",
    "total_groups = len(bins)"
   ]
  },
  {
   "cell_type": "code",
   "execution_count": 8,
   "id": "0d7712cf-1d84-4f05-8631-50e0268a5cbc",
   "metadata": {},
   "outputs": [
    {
     "name": "stdout",
     "output_type": "stream",
     "text": [
      "Number of groups used: 3\n",
      "Total cost (credits spent): 25\n",
      "==================================================\n",
      "Group 1: Total IPs = 196 | Group Cost = 1 credit | IP Cost = 2 credits | Total Group Cost = 3 credits\n",
      " - Brazil: 108\n",
      " - Finland: 55\n",
      " - India: 18\n",
      " - Colombia: 14\n",
      " - Nepal: 1\n",
      "--------------------------------------------------\n",
      "Group 2: Total IPs = 998 | Group Cost = 1 credit | IP Cost = 10 credits | Total Group Cost = 11 credits\n",
      " - Spain: 392\n",
      " - Germany: 267\n",
      " - United States: 139\n",
      " - United Kingdom: 59\n",
      " - Romania: 32\n",
      " - Ukraine: 32\n",
      " - Thailand: 19\n",
      " - Austria: 6\n",
      " - Belgium: 4\n",
      " - Costa Rica: 4\n",
      " - Palestinian Territory: 4\n",
      " - Albania: 3\n",
      " - Australia: 3\n",
      " - Czech Republic: 3\n",
      " - Estonia: 3\n",
      " - Macedonia: 3\n",
      " - Peru: 3\n",
      " - South Africa: 3\n",
      " - Tunisia: 3\n",
      " - Argentina: 2\n",
      " - Cyprus: 2\n",
      " - Dominican Republic: 2\n",
      " - Hungary: 2\n",
      " - Iceland: 2\n",
      " - Ireland: 2\n",
      " - Paraguay: 2\n",
      " - United Arab Emirates: 2\n",
      "--------------------------------------------------\n",
      "Group 3: Total IPs = 1000 | Group Cost = 1 credit | IP Cost = 10 credits | Total Group Cost = 11 credits\n",
      " - Netherlands: 454\n",
      " - France: 246\n",
      " - Bulgaria: 41\n",
      " - Italy: 39\n",
      " - Canada: 25\n",
      " - Serbia: 23\n",
      " - Bosnia and Herzegovina: 21\n",
      " - Turkey: 16\n",
      " - Singapore: 15\n",
      " - Pakistan: 14\n",
      " - Poland: 14\n",
      " - Lithuania: 12\n",
      " - Israel: 10\n",
      " - Portugal: 10\n",
      " - Iraq: 9\n",
      " - Russia: 8\n",
      " - Croatia: 7\n",
      " - Sweden: 7\n",
      " - Switzerland: 6\n",
      " - Indonesia: 5\n",
      " - Armenia: 1\n",
      " - Bolivia: 1\n",
      " - Chile: 1\n",
      " - Denmark: 1\n",
      " - Ecuador: 1\n",
      " - Egypt: 1\n",
      " - El Salvador: 1\n",
      " - French Polynesia: 1\n",
      " - Honduras: 1\n",
      " - Japan: 1\n",
      " - Jordan: 1\n",
      " - Malta: 1\n",
      " - Montenegro: 1\n",
      " - Morocco: 1\n",
      " - Myanmar: 1\n",
      " - Norway: 1\n",
      " - Slovakia: 1\n",
      " - Vietnam: 1\n",
      "--------------------------------------------------\n"
     ]
    }
   ],
   "source": [
    "# Output results\n",
    "print(f\"Number of groups used: {total_groups}\")\n",
    "print(f\"Total cost (credits spent): {total_cost}\")\n",
    "print(\"=\" * 50)\n",
    "\n",
    "group_number = 1\n",
    "for bin_index, bin_info in bins.items():\n",
    "    print(f\"Group {group_number}: Total IPs = {bin_info['total_count']} | Group Cost = {bin_info['group_cost']} credit | IP Cost = {bin_info['ip_cost']} credits | Total Group Cost = {bin_info['total_group_cost']} credits\")\n",
    "    for country, count in bin_info['items']:\n",
    "        print(f\" - {country}: {count}\")\n",
    "    print(\"-\" * 50)\n",
    "    group_number += 1"
   ]
  },
  {
   "cell_type": "code",
   "execution_count": null,
   "id": "0608eff8-c5f5-4ba5-96b4-8a90f2fcc5bd",
   "metadata": {},
   "outputs": [],
   "source": []
  }
 ],
 "metadata": {
  "kernelspec": {
   "display_name": "Python 3 (ipykernel)",
   "language": "python",
   "name": "python3"
  },
  "language_info": {
   "codemirror_mode": {
    "name": "ipython",
    "version": 3
   },
   "file_extension": ".py",
   "mimetype": "text/x-python",
   "name": "python",
   "nbconvert_exporter": "python",
   "pygments_lexer": "ipython3",
   "version": "3.10.11"
  }
 },
 "nbformat": 4,
 "nbformat_minor": 5
}
