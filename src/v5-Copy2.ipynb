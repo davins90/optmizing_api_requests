{
 "cells": [
  {
   "cell_type": "markdown",
   "id": "490b1b1f-0645-4f99-92a0-0bfe5c0c4917",
   "metadata": {},
   "source": [
    "VERSIONE FINALE"
   ]
  },
  {
   "cell_type": "markdown",
   "id": "5eb00a8c-4952-4f0f-8e23-98babfb45325",
   "metadata": {},
   "source": [
    "Minimizzare sia per il numero di gruppi da creare sia per il costo delle chiamate api, il cui costo è pari a 1 per ogni gruppo e pari a 1 ogni 100 ip, sempre con il vincolo che al massimo in un gruppo ci possono essere 1000 ip. Vresione refactored 1/10"
   ]
  },
  {
   "cell_type": "code",
   "execution_count": 1,
   "id": "90298c50-ae5f-4c45-ba94-f7be843a9d8c",
   "metadata": {},
   "outputs": [],
   "source": [
    "import pulp\n",
    "import json"
   ]
  },
  {
   "cell_type": "markdown",
   "id": "cbc84c20-75a4-4f12-a2b5-ac2f60dd402f",
   "metadata": {},
   "source": [
    "# 1.0 Data Retrieval\n",
    "\n",
    "Dati forniti da Lu."
   ]
  },
  {
   "cell_type": "code",
   "execution_count": 2,
   "id": "3e6aa9c9-2c13-4958-a3e1-8faf41a8ccb6",
   "metadata": {},
   "outputs": [],
   "source": [
    "res = {\"query\": \"services.http.response.html_title: \\\"X Acceleration Codec\\\" or services.http.response.body: \\\"X Acceleration Codec\\\"\",\"field\": \"location.country\",\"total\": 2194,\"duration\": 1099,\"total_omitted\": 0,\"potential_deviation\": 0,\"buckets\": [{\"key\": \"Netherlands\",\"count\": 454},{\"key\": \"Spain\",\"count\": 392},{\"key\": \"Germany\",\"count\": 267},{\"key\": \"France\",\"count\": 246},{\"key\": \"United States\",\"count\": 139},{\"key\": \"Brazil\",\"count\": 108},{\"key\": \"United Kingdom\",\"count\": 59},{\"key\": \"Finland\",\"count\": 55},{\"key\": \"Bulgaria\",\"count\": 41},{\"key\": \"Italy\",\"count\": 39},{\"key\": \"Romania\",\"count\": 32},{\"key\": \"Ukraine\",\"count\": 32},{\"key\": \"Canada\",\"count\": 25},{\"key\": \"Serbia\",\"count\": 23},{\"key\": \"Bosnia and Herzegovina\",\"count\": 21},{\"key\": \"Thailand\",\"count\": 19},{\"key\": \"India\",\"count\": 18},{\"key\": \"Turkey\",\"count\": 16},{\"key\": \"Singapore\",\"count\": 15},{\"key\": \"Colombia\",\"count\": 14},{\"key\": \"Pakistan\",\"count\": 14},{\"key\": \"Poland\",\"count\": 14},{\"key\": \"Lithuania\",\"count\": 12},{\"key\": \"Israel\",\"count\": 10},{\"key\": \"Portugal\",\"count\": 10},{\"key\": \"Iraq\",\"count\": 9},{\"key\": \"Russia\",\"count\": 8},{\"key\": \"Croatia\",\"count\": 7},{\"key\": \"Sweden\",\"count\": 7},{\"key\": \"Austria\",\"count\": 6},{\"key\": \"Switzerland\",\"count\": 6},{\"key\": \"Indonesia\",\"count\": 5},{\"key\": \"Belgium\",\"count\": 4},{\"key\": \"Costa Rica\",\"count\": 4},{\"key\": \"Palestinian Territory\",\"count\": 4},{\"key\": \"Albania\",\"count\": 3},{\"key\": \"Australia\",\"count\": 3},{\"key\": \"Czech Republic\",\"count\": 3},{\"key\": \"Estonia\",\"count\": 3},{\"key\": \"Macedonia\",\"count\": 3},{\"key\": \"Peru\",\"count\": 3},{\"key\": \"South Africa\",\"count\": 3},{\"key\": \"Tunisia\",\"count\": 3},{\"key\": \"Argentina\",\"count\": 2},{\"key\": \"Cyprus\",\"count\": 2},{\"key\": \"Dominican Republic\",\"count\": 2},{\"key\": \"Hungary\",\"count\": 2},{\"key\": \"Iceland\",\"count\": 2},{\"key\": \"Ireland\",\"count\": 2},{\"key\": \"Paraguay\",\"count\": 2},{\"key\": \"United Arab Emirates\",\"count\": 2},{\"key\": \"Armenia\",\"count\": 1},{\"key\": \"Bolivia\",\"count\": 1},{\"key\": \"Chile\",\"count\": 1},{\"key\": \"Denmark\",\"count\": 1},{\"key\": \"Ecuador\",\"count\": 1},{\"key\": \"Egypt\",\"count\": 1},{\"key\": \"El Salvador\",\"count\": 1},{\"key\": \"French Polynesia\",\"count\": 1},{\"key\": \"Honduras\",\"count\": 1},{\"key\": \"Japan\",\"count\": 1},{\"key\": \"Jordan\",\"count\": 1},{\"key\": \"Malta\",\"count\": 1},{\"key\": \"Montenegro\",\"count\": 1},{\"key\": \"Morocco\",\"count\": 1},{\"key\": \"Myanmar\",\"count\": 1},{\"key\": \"Nepal\",\"count\": 1},{\"key\": \"Norway\",\"count\": 1},{\"key\": \"Slovakia\",\"count\": 1},{\"key\": \"Vietnam\",\"count\": 1}]}"
   ]
  },
  {
   "cell_type": "code",
   "execution_count": 3,
   "id": "e93ff46e-9d50-4b77-a9cc-3a9a0f2e76c0",
   "metadata": {},
   "outputs": [],
   "source": [
    "data = res['buckets']"
   ]
  },
  {
   "cell_type": "markdown",
   "id": "e4441899-d72c-4c97-b82b-53face7ecae4",
   "metadata": {},
   "source": [
    "# 2.0 Modeling"
   ]
  },
  {
   "cell_type": "markdown",
   "id": "0ed0cc71-42fb-490e-a012-9e3da4443423",
   "metadata": {},
   "source": [
    "## 2.1 Business constraints definition"
   ]
  },
  {
   "cell_type": "code",
   "execution_count": 4,
   "id": "da9f565e-be7e-4a25-8678-0ae3140437bb",
   "metadata": {},
   "outputs": [],
   "source": [
    "capacity = 1000 # max num ip per gruppo\n",
    "countries = [item['key'] for item in data]\n",
    "counts = [item['count'] for item in data]\n",
    "num_items = len(countries)\n",
    "num_bins = num_items  # limite superiore: al mamissimo tanti gruppi quanti paesi ci sono"
   ]
  },
  {
   "cell_type": "markdown",
   "id": "1de00c33-7636-4aaa-a898-119b9af18209",
   "metadata": {},
   "source": [
    "## 2.2 Mathematical definition of the problem"
   ]
  },
  {
   "cell_type": "code",
   "execution_count": 5,
   "id": "8dbd6004-e9ba-475f-a6b6-9622fa496985",
   "metadata": {},
   "outputs": [
    {
     "name": "stderr",
     "output_type": "stream",
     "text": [
      "/opt/conda/lib/python3.10/site-packages/pulp/pulp.py:1298: UserWarning: Spaces are not permitted in the name. Converted to '_'\n",
      "  warnings.warn(\"Spaces are not permitted in the name. Converted to '_'\")\n"
     ]
    }
   ],
   "source": [
    "prob = pulp.LpProblem(\"Minimizza il costo delle chiamate API a Censys Free\", pulp.LpMinimize) # definisco il problema e la tipologia di ottimizzazione"
   ]
  },
  {
   "cell_type": "markdown",
   "id": "c5d01417-45b7-471a-83dd-34f73708522a",
   "metadata": {},
   "source": [
    "### 2.2.1 Decision variables"
   ]
  },
  {
   "cell_type": "code",
   "execution_count": 6,
   "id": "02f7b298-6918-49bf-a2a8-38f9f9cbc7ed",
   "metadata": {},
   "outputs": [],
   "source": [
    "x = pulp.LpVariable.dicts('x',((i, j) for i in range(num_items) for j in range(num_bins)),cat='Binary') # il paese i è assegnato al gruppo j?\n",
    "y = pulp.LpVariable.dicts('y',(j for j in range(num_bins)),cat='Binary') # il gruppo j è utilizzato?\n",
    "s = pulp.LpVariable.dicts('s',(j for j in range(num_bins)),lowBound=0,cat='Continuous') # per contare il totale degli indirizzi ip in ciascun gruppo. Continua xk rende i calcoli più veloci\n",
    "c = pulp.LpVariable.dicts('c',(j for j in range(num_bins)),lowBound=0,cat='Integer') # per contare il numero di blocchi da 100 ip in ciascun gruppo"
   ]
  },
  {
   "cell_type": "markdown",
   "id": "b2e1e626-d80a-4c43-b8c0-78d301f10ca4",
   "metadata": {},
   "source": [
    "### 2.2.2 Objective function: cosa vogliamo miminizzare? il costo!"
   ]
  },
  {
   "cell_type": "code",
   "execution_count": 7,
   "id": "6d38fd30-88c1-4615-b599-dea5db7b94e4",
   "metadata": {},
   "outputs": [],
   "source": [
    "prob += pulp.lpSum(y[j] + c[j] for j in range(num_bins)) # semplice funzione di costo, data dalla somma del costo dei gruppi + il costo ogni 100 ip"
   ]
  },
  {
   "cell_type": "markdown",
   "id": "3b1624b5-8952-4ef3-81bc-b17cec9c985c",
   "metadata": {},
   "source": [
    "### 2.2.3 Constraints"
   ]
  },
  {
   "cell_type": "code",
   "execution_count": 8,
   "id": "e65f2755-33bb-4aeb-a5ef-4804e77f9641",
   "metadata": {},
   "outputs": [],
   "source": [
    "# 1) vincolo per verificare che ogni paese è assegnato ad un solo gruppo\n",
    "for i in range(num_items):\n",
    "    prob += pulp.lpSum(x[(i, j)] for j in range(num_bins)) == 1"
   ]
  },
  {
   "cell_type": "code",
   "execution_count": 9,
   "id": "b35a3036-3132-4bbb-98f2-1abaa5fca6bd",
   "metadata": {},
   "outputs": [],
   "source": [
    "# 2) vincolo per verificare che il numero di ip in un gruppo non superi il limite di 1000. Prima conto gli ip per ogni gruppo, poi verifico che sia inferiore al massimo consentito\n",
    "for j in range(num_bins):\n",
    "    prob += s[j] == pulp.lpSum(counts[i] * x[(i, j)] for i in range(num_items))\n",
    "    prob += s[j] <= capacity * y[j]"
   ]
  },
  {
   "cell_type": "code",
   "execution_count": 10,
   "id": "4bc71337-0082-412a-bec5-19ac733f382e",
   "metadata": {},
   "outputs": [],
   "source": [
    "# 3) vincolo per verificare quale gruppo è utilizzato in base al fatto se contiene o meno dei paesi\n",
    "for i in range(num_items):\n",
    "    for j in range(num_bins):\n",
    "        prob += x[(i, j)] <= y[j]"
   ]
  },
  {
   "cell_type": "code",
   "execution_count": 11,
   "id": "a7918292-4b11-48ef-9603-25c82f1d6af6",
   "metadata": {},
   "outputs": [],
   "source": [
    "# 4) vincolo per verificare quanti gruppi fare in base al numero di ip e il conseguente costo\n",
    "for j in range(num_bins):\n",
    "    prob += s[j] <= 100 * c[j]\n",
    "    prob += s[j] >= 100 * (c[j] - 1) + 1 - (1 - y[j]) * capacity"
   ]
  },
  {
   "cell_type": "code",
   "execution_count": 12,
   "id": "6c58ed31-35b1-412c-b14f-b079acc8edee",
   "metadata": {},
   "outputs": [],
   "source": [
    "# 5) vincolo per verificare che non ci siano gruppi vuoti utilizzati\n",
    "for j in range(num_bins):\n",
    "    prob += c[j] <= (capacity // 100) * y[j]"
   ]
  },
  {
   "cell_type": "code",
   "execution_count": 13,
   "id": "a09bd29d-e881-4624-980a-49abc0dfef01",
   "metadata": {},
   "outputs": [
    {
     "name": "stdout",
     "output_type": "stream",
     "text": [
      "Welcome to the CBC MILP Solver \n",
      "Version: 2.10.3 \n",
      "Build Date: Dec 15 2019 \n",
      "\n",
      "command line - /opt/conda/lib/python3.10/site-packages/pulp/solverdir/cbc/linux/64/cbc /tmp/35d6a598957a43649aefe4ca58bd55ea-pulp.mps -timeMode elapsed -branch -printingOptions all -solution /tmp/35d6a598957a43649aefe4ca58bd55ea-pulp.sol (default strategy 1)\n",
      "At line 2 NAME          MODEL\n",
      "At line 3 ROWS\n",
      "At line 5325 COLUMNS\n",
      "At line 35846 RHS\n",
      "At line 41167 BOUNDS\n",
      "At line 46208 ENDATA\n",
      "Problem MODEL has 5320 rows, 5110 columns and 20300 elements\n",
      "Coin0008I MODEL read with 0 errors\n",
      "Option for timeMode changed from cpu to elapsed\n",
      "Continuous objective value is 24.134 - 0.02 seconds\n",
      "Cgl0003I 0 fixed, 70 tightened bounds, 0 strengthened rows, 0 substitutions\n",
      "Cgl0004I processed model has 5320 rows, 5110 columns (5040 integer (4970 of which binary)) and 20300 elements\n",
      "Cutoff increment increased from 1e-05 to 0.9999\n",
      "Cbc0038I Initial state - 33 integers unsatisfied sum - 6.4882\n",
      "Cbc0038I Pass   1: (0.20 seconds) suminf.    1.24707 (6) obj. 24.2285 iterations 809\n",
      "Cbc0038I Pass   2: (0.21 seconds) suminf.    0.98000 (3) obj. 24.94 iterations 180\n",
      "Cbc0038I Solution found of 24.94\n",
      "Cbc0038I Branch and bound needed to clear up 3 general integers\n",
      "Cbc0038I Full problem 5320 rows 5110 columns, reduced to 0 rows 0 columns\n",
      "Cbc0038I Cleaned solution of 26\n",
      "Cbc0038I Before mini branch and bound, 5000 integers at bound fixed and 66 continuous\n",
      "Cbc0038I Full problem 5320 rows 5110 columns, reduced to 30 rows 27 columns\n",
      "Cbc0038I Mini branch and bound did not improve solution (0.25 seconds)\n",
      "Cbc0038I Round again with cutoff of 24.9135\n",
      "Cbc0038I Pass   3: (0.26 seconds) suminf.    1.24707 (6) obj. 24.2285 iterations 0\n",
      "Cbc0038I Pass   4: (0.27 seconds) suminf.    0.66400 (8) obj. 24.9135 iterations 273\n",
      "Cbc0038I Pass   5: (0.29 seconds) suminf.    1.23803 (6) obj. 24.2153 iterations 216\n",
      "Cbc0038I Pass   6: (0.36 seconds) suminf.    1.12081 (18) obj. 24.9135 iterations 1042\n",
      "Cbc0038I Pass   7: (0.42 seconds) suminf.    0.64638 (18) obj. 24.9135 iterations 1415\n",
      "Cbc0038I Pass   8: (0.45 seconds) suminf.    0.66400 (8) obj. 24.9135 iterations 417\n",
      "Cbc0038I Pass   9: (0.45 seconds) suminf.    0.66400 (8) obj. 24.9135 iterations 0\n",
      "Cbc0038I Pass  10: (0.74 seconds) suminf.    1.25761 (6) obj. 24.244 iterations 1596\n",
      "Cbc0038I Pass  11: (0.78 seconds) suminf.    0.66400 (8) obj. 24.9135 iterations 346\n",
      "Cbc0038I Pass  12: (0.95 seconds) suminf.    4.06505 (27) obj. 24.9135 iterations 1368\n",
      "Cbc0038I Pass  13: (1.08 seconds) suminf.    0.97189 (17) obj. 24.9135 iterations 1513\n",
      "Cbc0038I Pass  14: (1.13 seconds) suminf.    1.76387 (11) obj. 24.9135 iterations 403\n",
      "Cbc0038I Pass  15: (1.14 seconds) suminf.    1.76333 (11) obj. 24.9135 iterations 91\n",
      "Cbc0038I Pass  16: (1.34 seconds) suminf.    1.57173 (7) obj. 24.1693 iterations 1056\n",
      "Cbc0038I Pass  17: (1.41 seconds) suminf.    1.33140 (6) obj. 24.3519 iterations 340\n",
      "Cbc0038I Pass  18: (1.45 seconds) suminf.    1.07255 (8) obj. 24.9135 iterations 354\n",
      "Cbc0038I Pass  19: (1.59 seconds) suminf.    1.83062 (15) obj. 24.9135 iterations 1208\n",
      "Cbc0038I Pass  20: (1.71 seconds) suminf.    1.70963 (15) obj. 24.9135 iterations 1464\n",
      "Cbc0038I Pass  21: (1.77 seconds) suminf.    1.14719 (7) obj. 24.9135 iterations 419\n",
      "Cbc0038I Pass  22: (1.79 seconds) suminf.    1.14719 (7) obj. 24.9135 iterations 146\n",
      "Cbc0038I Pass  23: (2.08 seconds) suminf.    1.25305 (7) obj. 24.1693 iterations 1410\n",
      "Cbc0038I Pass  24: (2.20 seconds) suminf.    1.57563 (9) obj. 24.1926 iterations 703\n",
      "Cbc0038I Pass  25: (2.25 seconds) suminf.    1.04471 (8) obj. 24.9135 iterations 361\n",
      "Cbc0038I Pass  26: (2.25 seconds) suminf.    1.04471 (8) obj. 24.9135 iterations 0\n",
      "Cbc0038I Pass  27: (2.65 seconds) suminf.    1.29224 (6) obj. 24.2946 iterations 2806\n",
      "Cbc0038I Pass  28: (3.07 seconds) suminf.    1.60649 (27) obj. 24.9135 iterations 2869\n",
      "Cbc0038I No solution found this major pass\n",
      "Cbc0038I After 3.07 seconds - Feasibility pump exiting with objective of 26 - took 2.90 seconds\n",
      "Cbc0012I Integer solution of 26 found by feasibility pump after 0 iterations and 0 nodes (3.07 seconds)\n",
      "Cbc0038I Full problem 5320 rows 5110 columns, reduced to 30 rows 27 columns\n",
      "Cbc0031I 3 added rows had average density of 1091.3333\n",
      "Cbc0013I At root node, 3 cuts changed objective from 24.134 to 24.94 in 10 passes\n",
      "Cbc0014I Cut generator 0 (Probing) - 2 row cuts average 64.5 elements, 0 column cuts (0 active)  in 0.158 seconds - new frequency is -100\n",
      "Cbc0014I Cut generator 1 (Gomory) - 33 row cuts average 2383.3 elements, 0 column cuts (0 active)  in 0.031 seconds - new frequency is -100\n",
      "Cbc0014I Cut generator 2 (Knapsack) - 0 row cuts average 0.0 elements, 0 column cuts (0 active)  in 0.011 seconds - new frequency is -100\n",
      "Cbc0014I Cut generator 3 (Clique) - 0 row cuts average 0.0 elements, 0 column cuts (0 active)  in 0.000 seconds - new frequency is -100\n",
      "Cbc0014I Cut generator 4 (MixedIntegerRounding2) - 36 row cuts average 136.1 elements, 0 column cuts (0 active)  in 0.017 seconds - new frequency is 1\n",
      "Cbc0014I Cut generator 5 (FlowCover) - 6 row cuts average 26.3 elements, 0 column cuts (0 active)  in 0.003 seconds - new frequency is 1\n",
      "Cbc0014I Cut generator 6 (TwoMirCuts) - 21 row cuts average 242.6 elements, 0 column cuts (0 active)  in 0.020 seconds - new frequency is 1\n",
      "Cbc0010I After 0 nodes, 1 on tree, 26 best solution, best possible 24.94 (3.58 seconds)\n",
      "Cbc0012I Integer solution of 25 found by DiveCoefficient after 2925 iterations and 31 nodes (6.36 seconds)\n",
      "Cbc0001I Search completed - best objective 25, took 2925 iterations and 31 nodes (6.36 seconds)\n",
      "Cbc0032I Strong branching done 336 times (7567 iterations), fathomed 0 nodes and fixed 5 variables\n",
      "Cbc0035I Maximum depth 15, 0 variables fixed on reduced cost\n",
      "Cuts at root node changed objective from 24.134 to 24.94\n",
      "Probing was tried 10 times and created 2 cuts of which 0 were active after adding rounds of cuts (0.158 seconds)\n",
      "Gomory was tried 10 times and created 33 cuts of which 0 were active after adding rounds of cuts (0.031 seconds)\n",
      "Knapsack was tried 10 times and created 0 cuts of which 0 were active after adding rounds of cuts (0.011 seconds)\n",
      "Clique was tried 10 times and created 0 cuts of which 0 were active after adding rounds of cuts (0.000 seconds)\n",
      "MixedIntegerRounding2 was tried 26 times and created 48 cuts of which 0 were active after adding rounds of cuts (0.037 seconds)\n",
      "FlowCover was tried 26 times and created 38 cuts of which 0 were active after adding rounds of cuts (0.007 seconds)\n",
      "TwoMirCuts was tried 26 times and created 25 cuts of which 0 were active after adding rounds of cuts (0.031 seconds)\n",
      "ZeroHalf was tried 1 times and created 0 cuts of which 0 were active after adding rounds of cuts (0.008 seconds)\n",
      "\n",
      "Result - Optimal solution found\n",
      "\n",
      "Objective value:                25.00000000\n",
      "Enumerated nodes:               31\n",
      "Total iterations:               2925\n",
      "Time (CPU seconds):             6.34\n",
      "Time (Wallclock seconds):       6.38\n",
      "\n",
      "Option for printingOptions changed from normal to all\n",
      "Total time (CPU seconds):       6.35   (Wallclock seconds):       6.39\n",
      "\n"
     ]
    },
    {
     "data": {
      "text/plain": [
       "1"
      ]
     },
     "execution_count": 13,
     "metadata": {},
     "output_type": "execute_result"
    }
   ],
   "source": [
    "prob.solve()"
   ]
  },
  {
   "cell_type": "markdown",
   "id": "468a17a9-87bc-4937-8a3e-6f67c9f699fc",
   "metadata": {},
   "source": [
    "# 3.0 Output"
   ]
  },
  {
   "cell_type": "code",
   "execution_count": 14,
   "id": "ec4c77ba-67de-4e0d-82b7-880023f7d106",
   "metadata": {},
   "outputs": [],
   "source": [
    "solver_status = pulp.LpStatus[prob.status]"
   ]
  },
  {
   "cell_type": "markdown",
   "id": "bffd5652-76fa-4fa5-a6a3-3f1830a349b5",
   "metadata": {},
   "source": [
    "Struttura json finale"
   ]
  },
  {
   "cell_type": "code",
   "execution_count": 15,
   "id": "62861030-862f-4e77-8be2-51bb34d84ade",
   "metadata": {},
   "outputs": [],
   "source": [
    "output_data = {\n",
    "    'stato_solver': solver_status,\n",
    "    'totale_gruppi': 0,\n",
    "    'totale_spesa': 0,\n",
    "    'gruppi': []\n",
    "}"
   ]
  },
  {
   "cell_type": "markdown",
   "id": "586c89a4-a0fd-4598-ac27-cbce469e8c14",
   "metadata": {},
   "source": [
    "contatore per partire da 1 e non da 0 "
   ]
  },
  {
   "cell_type": "code",
   "execution_count": 16,
   "id": "7c50c1ab-0e3c-42e0-99a7-8dd4ef795ac3",
   "metadata": {},
   "outputs": [],
   "source": [
    "group_number = 1"
   ]
  },
  {
   "cell_type": "markdown",
   "id": "cb912cdc-2f50-496c-8d2d-50421c3fa55a",
   "metadata": {},
   "source": [
    "Ciclo for per capire quali gruppi sono stati utilizzati di tutti i possibili (derivati del numero di paesi) e analogamente per ciclare su tutti i paesi e vedere quale paese c'è all'interno di ciascun gruppo. Uso 0.5 invece che 1 xk mi dava problemi con gli arrotondamenti (0.99999999)"
   ]
  },
  {
   "cell_type": "code",
   "execution_count": 17,
   "id": "02e8cdfc-27e8-455e-bef8-e6b7328cff7c",
   "metadata": {},
   "outputs": [],
   "source": [
    "for j in range(num_bins):\n",
    "    if y[j].varValue > 0.5:\n",
    "        total_ip = 0\n",
    "        countries_in_group = []\n",
    "        for i in range(num_items):\n",
    "            if x[(i, j)].varValue > 0.5:\n",
    "                country_info = {\n",
    "                    'paese': countries[i],\n",
    "                    'numero_ip': counts[i]\n",
    "                }\n",
    "                countries_in_group.append(country_info)\n",
    "                total_ip += counts[i]\n",
    "\n",
    "        if total_ip > 0:\n",
    "            group_cost = 1 \n",
    "            ip_cost = int(c[j].varValue) \n",
    "            total_group_cost = group_cost + ip_cost \n",
    "\n",
    "            output_data['totale_gruppi'] += 1\n",
    "            output_data['totale_spesa'] += total_group_cost\n",
    "\n",
    "            group_info = {\n",
    "                'numero_gruppo': group_number,\n",
    "                'totale_ip': total_ip,\n",
    "                'costo_ip': ip_cost,\n",
    "                'costo_gruppo': group_cost,\n",
    "                'costo_totale_gruppo': total_group_cost,\n",
    "                'lista_paesi': countries_in_group\n",
    "            }\n",
    "\n",
    "            output_data['gruppi'].append(group_info)\n",
    "            group_number += 1"
   ]
  },
  {
   "cell_type": "code",
   "execution_count": 18,
   "id": "38aefa26-eefb-43b3-8e60-12e82e9adf1d",
   "metadata": {},
   "outputs": [],
   "source": [
    "output_json = json.dumps(output_data, indent=2)"
   ]
  },
  {
   "cell_type": "code",
   "execution_count": 19,
   "id": "0608eff8-c5f5-4ba5-96b4-8a90f2fcc5bd",
   "metadata": {},
   "outputs": [
    {
     "name": "stdout",
     "output_type": "stream",
     "text": [
      "{\n",
      "  \"stato_solver\": \"Optimal\",\n",
      "  \"totale_gruppi\": 3,\n",
      "  \"totale_spesa\": 25,\n",
      "  \"gruppi\": [\n",
      "    {\n",
      "      \"numero_gruppo\": 1,\n",
      "      \"totale_ip\": 196,\n",
      "      \"costo_ip\": 2,\n",
      "      \"costo_gruppo\": 1,\n",
      "      \"costo_totale_gruppo\": 3,\n",
      "      \"lista_paesi\": [\n",
      "        {\n",
      "          \"paese\": \"Brazil\",\n",
      "          \"numero_ip\": 108\n",
      "        },\n",
      "        {\n",
      "          \"paese\": \"Finland\",\n",
      "          \"numero_ip\": 55\n",
      "        },\n",
      "        {\n",
      "          \"paese\": \"India\",\n",
      "          \"numero_ip\": 18\n",
      "        },\n",
      "        {\n",
      "          \"paese\": \"Colombia\",\n",
      "          \"numero_ip\": 14\n",
      "        },\n",
      "        {\n",
      "          \"paese\": \"Nepal\",\n",
      "          \"numero_ip\": 1\n",
      "        }\n",
      "      ]\n",
      "    },\n",
      "    {\n",
      "      \"numero_gruppo\": 2,\n",
      "      \"totale_ip\": 998,\n",
      "      \"costo_ip\": 10,\n",
      "      \"costo_gruppo\": 1,\n",
      "      \"costo_totale_gruppo\": 11,\n",
      "      \"lista_paesi\": [\n",
      "        {\n",
      "          \"paese\": \"Spain\",\n",
      "          \"numero_ip\": 392\n",
      "        },\n",
      "        {\n",
      "          \"paese\": \"Germany\",\n",
      "          \"numero_ip\": 267\n",
      "        },\n",
      "        {\n",
      "          \"paese\": \"United States\",\n",
      "          \"numero_ip\": 139\n",
      "        },\n",
      "        {\n",
      "          \"paese\": \"United Kingdom\",\n",
      "          \"numero_ip\": 59\n",
      "        },\n",
      "        {\n",
      "          \"paese\": \"Romania\",\n",
      "          \"numero_ip\": 32\n",
      "        },\n",
      "        {\n",
      "          \"paese\": \"Ukraine\",\n",
      "          \"numero_ip\": 32\n",
      "        },\n",
      "        {\n",
      "          \"paese\": \"Thailand\",\n",
      "          \"numero_ip\": 19\n",
      "        },\n",
      "        {\n",
      "          \"paese\": \"Austria\",\n",
      "          \"numero_ip\": 6\n",
      "        },\n",
      "        {\n",
      "          \"paese\": \"Belgium\",\n",
      "          \"numero_ip\": 4\n",
      "        },\n",
      "        {\n",
      "          \"paese\": \"Costa Rica\",\n",
      "          \"numero_ip\": 4\n",
      "        },\n",
      "        {\n",
      "          \"paese\": \"Palestinian Territory\",\n",
      "          \"numero_ip\": 4\n",
      "        },\n",
      "        {\n",
      "          \"paese\": \"Albania\",\n",
      "          \"numero_ip\": 3\n",
      "        },\n",
      "        {\n",
      "          \"paese\": \"Australia\",\n",
      "          \"numero_ip\": 3\n",
      "        },\n",
      "        {\n",
      "          \"paese\": \"Czech Republic\",\n",
      "          \"numero_ip\": 3\n",
      "        },\n",
      "        {\n",
      "          \"paese\": \"Estonia\",\n",
      "          \"numero_ip\": 3\n",
      "        },\n",
      "        {\n",
      "          \"paese\": \"Macedonia\",\n",
      "          \"numero_ip\": 3\n",
      "        },\n",
      "        {\n",
      "          \"paese\": \"Peru\",\n",
      "          \"numero_ip\": 3\n",
      "        },\n",
      "        {\n",
      "          \"paese\": \"South Africa\",\n",
      "          \"numero_ip\": 3\n",
      "        },\n",
      "        {\n",
      "          \"paese\": \"Tunisia\",\n",
      "          \"numero_ip\": 3\n",
      "        },\n",
      "        {\n",
      "          \"paese\": \"Argentina\",\n",
      "          \"numero_ip\": 2\n",
      "        },\n",
      "        {\n",
      "          \"paese\": \"Cyprus\",\n",
      "          \"numero_ip\": 2\n",
      "        },\n",
      "        {\n",
      "          \"paese\": \"Dominican Republic\",\n",
      "          \"numero_ip\": 2\n",
      "        },\n",
      "        {\n",
      "          \"paese\": \"Hungary\",\n",
      "          \"numero_ip\": 2\n",
      "        },\n",
      "        {\n",
      "          \"paese\": \"Iceland\",\n",
      "          \"numero_ip\": 2\n",
      "        },\n",
      "        {\n",
      "          \"paese\": \"Ireland\",\n",
      "          \"numero_ip\": 2\n",
      "        },\n",
      "        {\n",
      "          \"paese\": \"Paraguay\",\n",
      "          \"numero_ip\": 2\n",
      "        },\n",
      "        {\n",
      "          \"paese\": \"United Arab Emirates\",\n",
      "          \"numero_ip\": 2\n",
      "        }\n",
      "      ]\n",
      "    },\n",
      "    {\n",
      "      \"numero_gruppo\": 3,\n",
      "      \"totale_ip\": 1000,\n",
      "      \"costo_ip\": 10,\n",
      "      \"costo_gruppo\": 1,\n",
      "      \"costo_totale_gruppo\": 11,\n",
      "      \"lista_paesi\": [\n",
      "        {\n",
      "          \"paese\": \"Netherlands\",\n",
      "          \"numero_ip\": 454\n",
      "        },\n",
      "        {\n",
      "          \"paese\": \"France\",\n",
      "          \"numero_ip\": 246\n",
      "        },\n",
      "        {\n",
      "          \"paese\": \"Bulgaria\",\n",
      "          \"numero_ip\": 41\n",
      "        },\n",
      "        {\n",
      "          \"paese\": \"Italy\",\n",
      "          \"numero_ip\": 39\n",
      "        },\n",
      "        {\n",
      "          \"paese\": \"Canada\",\n",
      "          \"numero_ip\": 25\n",
      "        },\n",
      "        {\n",
      "          \"paese\": \"Serbia\",\n",
      "          \"numero_ip\": 23\n",
      "        },\n",
      "        {\n",
      "          \"paese\": \"Bosnia and Herzegovina\",\n",
      "          \"numero_ip\": 21\n",
      "        },\n",
      "        {\n",
      "          \"paese\": \"Turkey\",\n",
      "          \"numero_ip\": 16\n",
      "        },\n",
      "        {\n",
      "          \"paese\": \"Singapore\",\n",
      "          \"numero_ip\": 15\n",
      "        },\n",
      "        {\n",
      "          \"paese\": \"Pakistan\",\n",
      "          \"numero_ip\": 14\n",
      "        },\n",
      "        {\n",
      "          \"paese\": \"Poland\",\n",
      "          \"numero_ip\": 14\n",
      "        },\n",
      "        {\n",
      "          \"paese\": \"Lithuania\",\n",
      "          \"numero_ip\": 12\n",
      "        },\n",
      "        {\n",
      "          \"paese\": \"Israel\",\n",
      "          \"numero_ip\": 10\n",
      "        },\n",
      "        {\n",
      "          \"paese\": \"Portugal\",\n",
      "          \"numero_ip\": 10\n",
      "        },\n",
      "        {\n",
      "          \"paese\": \"Iraq\",\n",
      "          \"numero_ip\": 9\n",
      "        },\n",
      "        {\n",
      "          \"paese\": \"Russia\",\n",
      "          \"numero_ip\": 8\n",
      "        },\n",
      "        {\n",
      "          \"paese\": \"Croatia\",\n",
      "          \"numero_ip\": 7\n",
      "        },\n",
      "        {\n",
      "          \"paese\": \"Sweden\",\n",
      "          \"numero_ip\": 7\n",
      "        },\n",
      "        {\n",
      "          \"paese\": \"Switzerland\",\n",
      "          \"numero_ip\": 6\n",
      "        },\n",
      "        {\n",
      "          \"paese\": \"Indonesia\",\n",
      "          \"numero_ip\": 5\n",
      "        },\n",
      "        {\n",
      "          \"paese\": \"Armenia\",\n",
      "          \"numero_ip\": 1\n",
      "        },\n",
      "        {\n",
      "          \"paese\": \"Bolivia\",\n",
      "          \"numero_ip\": 1\n",
      "        },\n",
      "        {\n",
      "          \"paese\": \"Chile\",\n",
      "          \"numero_ip\": 1\n",
      "        },\n",
      "        {\n",
      "          \"paese\": \"Denmark\",\n",
      "          \"numero_ip\": 1\n",
      "        },\n",
      "        {\n",
      "          \"paese\": \"Ecuador\",\n",
      "          \"numero_ip\": 1\n",
      "        },\n",
      "        {\n",
      "          \"paese\": \"Egypt\",\n",
      "          \"numero_ip\": 1\n",
      "        },\n",
      "        {\n",
      "          \"paese\": \"El Salvador\",\n",
      "          \"numero_ip\": 1\n",
      "        },\n",
      "        {\n",
      "          \"paese\": \"French Polynesia\",\n",
      "          \"numero_ip\": 1\n",
      "        },\n",
      "        {\n",
      "          \"paese\": \"Honduras\",\n",
      "          \"numero_ip\": 1\n",
      "        },\n",
      "        {\n",
      "          \"paese\": \"Japan\",\n",
      "          \"numero_ip\": 1\n",
      "        },\n",
      "        {\n",
      "          \"paese\": \"Jordan\",\n",
      "          \"numero_ip\": 1\n",
      "        },\n",
      "        {\n",
      "          \"paese\": \"Malta\",\n",
      "          \"numero_ip\": 1\n",
      "        },\n",
      "        {\n",
      "          \"paese\": \"Montenegro\",\n",
      "          \"numero_ip\": 1\n",
      "        },\n",
      "        {\n",
      "          \"paese\": \"Morocco\",\n",
      "          \"numero_ip\": 1\n",
      "        },\n",
      "        {\n",
      "          \"paese\": \"Myanmar\",\n",
      "          \"numero_ip\": 1\n",
      "        },\n",
      "        {\n",
      "          \"paese\": \"Norway\",\n",
      "          \"numero_ip\": 1\n",
      "        },\n",
      "        {\n",
      "          \"paese\": \"Slovakia\",\n",
      "          \"numero_ip\": 1\n",
      "        },\n",
      "        {\n",
      "          \"paese\": \"Vietnam\",\n",
      "          \"numero_ip\": 1\n",
      "        }\n",
      "      ]\n",
      "    }\n",
      "  ]\n",
      "}\n"
     ]
    }
   ],
   "source": [
    "print(output_json)"
   ]
  },
  {
   "cell_type": "code",
   "execution_count": null,
   "id": "fd3f63b7-2508-4d86-8e98-235c5613b339",
   "metadata": {},
   "outputs": [],
   "source": []
  }
 ],
 "metadata": {
  "kernelspec": {
   "display_name": "Python 3 (ipykernel)",
   "language": "python",
   "name": "python3"
  },
  "language_info": {
   "codemirror_mode": {
    "name": "ipython",
    "version": 3
   },
   "file_extension": ".py",
   "mimetype": "text/x-python",
   "name": "python",
   "nbconvert_exporter": "python",
   "pygments_lexer": "ipython3",
   "version": "3.10.11"
  }
 },
 "nbformat": 4,
 "nbformat_minor": 5
}
