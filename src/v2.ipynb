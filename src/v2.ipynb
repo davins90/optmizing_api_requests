{
 "cells": [
  {
   "cell_type": "markdown",
   "id": "a029c828-e66e-4df1-bdda-194c5b350486",
   "metadata": {},
   "source": [
    "Esempio ottimizzazione a numeri interi per minimizzare il numero di gruppi da creare e il costo ogni 100 ip ---> in realtà mi pare che minimizzi solo per il costo ogni 100 ip, non il numero di gruppi!"
   ]
  },
  {
   "cell_type": "code",
   "execution_count": 1,
   "id": "c46dca82-b68d-40ad-86ba-29705bc1494f",
   "metadata": {},
   "outputs": [],
   "source": [
    "import pulp\n",
    "import json\n",
    "import math"
   ]
  },
  {
   "cell_type": "markdown",
   "id": "b56ba59b-4895-4181-a57d-d0650f20435b",
   "metadata": {},
   "source": [
    "# 1.0 Data Retrieval\n",
    "\n",
    "Recupero dati generati da Lu tramite API"
   ]
  },
  {
   "cell_type": "code",
   "execution_count": 2,
   "id": "b38c5550-8fd6-456a-b762-cc7dfcd1ad5c",
   "metadata": {},
   "outputs": [],
   "source": [
    "res = {\"query\": \"services.http.response.html_title: \\\"X Acceleration Codec\\\" or services.http.response.body: \\\"X Acceleration Codec\\\"\",\"field\": \"location.country\",\"total\": 2194,\"duration\": 1099,\"total_omitted\": 0,\"potential_deviation\": 0,\"buckets\": [{\"key\": \"Netherlands\",\"count\": 454},{\"key\": \"Spain\",\"count\": 392},{\"key\": \"Germany\",\"count\": 267},{\"key\": \"France\",\"count\": 246},{\"key\": \"United States\",\"count\": 139},{\"key\": \"Brazil\",\"count\": 108},{\"key\": \"United Kingdom\",\"count\": 59},{\"key\": \"Finland\",\"count\": 55},{\"key\": \"Bulgaria\",\"count\": 41},{\"key\": \"Italy\",\"count\": 39},{\"key\": \"Romania\",\"count\": 32},{\"key\": \"Ukraine\",\"count\": 32},{\"key\": \"Canada\",\"count\": 25},{\"key\": \"Serbia\",\"count\": 23},{\"key\": \"Bosnia and Herzegovina\",\"count\": 21},{\"key\": \"Thailand\",\"count\": 19},{\"key\": \"India\",\"count\": 18},{\"key\": \"Turkey\",\"count\": 16},{\"key\": \"Singapore\",\"count\": 15},{\"key\": \"Colombia\",\"count\": 14},{\"key\": \"Pakistan\",\"count\": 14},{\"key\": \"Poland\",\"count\": 14},{\"key\": \"Lithuania\",\"count\": 12},{\"key\": \"Israel\",\"count\": 10},{\"key\": \"Portugal\",\"count\": 10},{\"key\": \"Iraq\",\"count\": 9},{\"key\": \"Russia\",\"count\": 8},{\"key\": \"Croatia\",\"count\": 7},{\"key\": \"Sweden\",\"count\": 7},{\"key\": \"Austria\",\"count\": 6},{\"key\": \"Switzerland\",\"count\": 6},{\"key\": \"Indonesia\",\"count\": 5},{\"key\": \"Belgium\",\"count\": 4},{\"key\": \"Costa Rica\",\"count\": 4},{\"key\": \"Palestinian Territory\",\"count\": 4},{\"key\": \"Albania\",\"count\": 3},{\"key\": \"Australia\",\"count\": 3},{\"key\": \"Czech Republic\",\"count\": 3},{\"key\": \"Estonia\",\"count\": 3},{\"key\": \"Macedonia\",\"count\": 3},{\"key\": \"Peru\",\"count\": 3},{\"key\": \"South Africa\",\"count\": 3},{\"key\": \"Tunisia\",\"count\": 3},{\"key\": \"Argentina\",\"count\": 2},{\"key\": \"Cyprus\",\"count\": 2},{\"key\": \"Dominican Republic\",\"count\": 2},{\"key\": \"Hungary\",\"count\": 2},{\"key\": \"Iceland\",\"count\": 2},{\"key\": \"Ireland\",\"count\": 2},{\"key\": \"Paraguay\",\"count\": 2},{\"key\": \"United Arab Emirates\",\"count\": 2},{\"key\": \"Armenia\",\"count\": 1},{\"key\": \"Bolivia\",\"count\": 1},{\"key\": \"Chile\",\"count\": 1},{\"key\": \"Denmark\",\"count\": 1},{\"key\": \"Ecuador\",\"count\": 1},{\"key\": \"Egypt\",\"count\": 1},{\"key\": \"El Salvador\",\"count\": 1},{\"key\": \"French Polynesia\",\"count\": 1},{\"key\": \"Honduras\",\"count\": 1},{\"key\": \"Japan\",\"count\": 1},{\"key\": \"Jordan\",\"count\": 1},{\"key\": \"Malta\",\"count\": 1},{\"key\": \"Montenegro\",\"count\": 1},{\"key\": \"Morocco\",\"count\": 1},{\"key\": \"Myanmar\",\"count\": 1},{\"key\": \"Nepal\",\"count\": 1},{\"key\": \"Norway\",\"count\": 1},{\"key\": \"Slovakia\",\"count\": 1},{\"key\": \"Vietnam\",\"count\": 1}]}"
   ]
  },
  {
   "cell_type": "code",
   "execution_count": 3,
   "id": "59f095a2-68e3-4fa9-b177-7152c2c4ca3b",
   "metadata": {},
   "outputs": [],
   "source": [
    "data = res['buckets']"
   ]
  },
  {
   "cell_type": "code",
   "execution_count": 4,
   "id": "5e804797-34e2-4e88-a3ab-b813122b7a45",
   "metadata": {},
   "outputs": [
    {
     "data": {
      "text/plain": [
       "70"
      ]
     },
     "execution_count": 4,
     "metadata": {},
     "output_type": "execute_result"
    }
   ],
   "source": [
    "len(data)"
   ]
  },
  {
   "cell_type": "code",
   "execution_count": 5,
   "id": "9c52178c-fd1b-4b20-b1c6-c4310a419709",
   "metadata": {},
   "outputs": [
    {
     "data": {
      "text/plain": [
       "[{'key': 'Netherlands', 'count': 454},\n",
       " {'key': 'Spain', 'count': 392},\n",
       " {'key': 'Germany', 'count': 267},\n",
       " {'key': 'France', 'count': 246},\n",
       " {'key': 'United States', 'count': 139},\n",
       " {'key': 'Brazil', 'count': 108},\n",
       " {'key': 'United Kingdom', 'count': 59},\n",
       " {'key': 'Finland', 'count': 55},\n",
       " {'key': 'Bulgaria', 'count': 41},\n",
       " {'key': 'Italy', 'count': 39},\n",
       " {'key': 'Romania', 'count': 32},\n",
       " {'key': 'Ukraine', 'count': 32},\n",
       " {'key': 'Canada', 'count': 25},\n",
       " {'key': 'Serbia', 'count': 23},\n",
       " {'key': 'Bosnia and Herzegovina', 'count': 21},\n",
       " {'key': 'Thailand', 'count': 19},\n",
       " {'key': 'India', 'count': 18},\n",
       " {'key': 'Turkey', 'count': 16},\n",
       " {'key': 'Singapore', 'count': 15},\n",
       " {'key': 'Colombia', 'count': 14},\n",
       " {'key': 'Pakistan', 'count': 14},\n",
       " {'key': 'Poland', 'count': 14},\n",
       " {'key': 'Lithuania', 'count': 12},\n",
       " {'key': 'Israel', 'count': 10},\n",
       " {'key': 'Portugal', 'count': 10},\n",
       " {'key': 'Iraq', 'count': 9},\n",
       " {'key': 'Russia', 'count': 8},\n",
       " {'key': 'Croatia', 'count': 7},\n",
       " {'key': 'Sweden', 'count': 7},\n",
       " {'key': 'Austria', 'count': 6},\n",
       " {'key': 'Switzerland', 'count': 6},\n",
       " {'key': 'Indonesia', 'count': 5},\n",
       " {'key': 'Belgium', 'count': 4},\n",
       " {'key': 'Costa Rica', 'count': 4},\n",
       " {'key': 'Palestinian Territory', 'count': 4},\n",
       " {'key': 'Albania', 'count': 3},\n",
       " {'key': 'Australia', 'count': 3},\n",
       " {'key': 'Czech Republic', 'count': 3},\n",
       " {'key': 'Estonia', 'count': 3},\n",
       " {'key': 'Macedonia', 'count': 3},\n",
       " {'key': 'Peru', 'count': 3},\n",
       " {'key': 'South Africa', 'count': 3},\n",
       " {'key': 'Tunisia', 'count': 3},\n",
       " {'key': 'Argentina', 'count': 2},\n",
       " {'key': 'Cyprus', 'count': 2},\n",
       " {'key': 'Dominican Republic', 'count': 2},\n",
       " {'key': 'Hungary', 'count': 2},\n",
       " {'key': 'Iceland', 'count': 2},\n",
       " {'key': 'Ireland', 'count': 2},\n",
       " {'key': 'Paraguay', 'count': 2},\n",
       " {'key': 'United Arab Emirates', 'count': 2},\n",
       " {'key': 'Armenia', 'count': 1},\n",
       " {'key': 'Bolivia', 'count': 1},\n",
       " {'key': 'Chile', 'count': 1},\n",
       " {'key': 'Denmark', 'count': 1},\n",
       " {'key': 'Ecuador', 'count': 1},\n",
       " {'key': 'Egypt', 'count': 1},\n",
       " {'key': 'El Salvador', 'count': 1},\n",
       " {'key': 'French Polynesia', 'count': 1},\n",
       " {'key': 'Honduras', 'count': 1},\n",
       " {'key': 'Japan', 'count': 1},\n",
       " {'key': 'Jordan', 'count': 1},\n",
       " {'key': 'Malta', 'count': 1},\n",
       " {'key': 'Montenegro', 'count': 1},\n",
       " {'key': 'Morocco', 'count': 1},\n",
       " {'key': 'Myanmar', 'count': 1},\n",
       " {'key': 'Nepal', 'count': 1},\n",
       " {'key': 'Norway', 'count': 1},\n",
       " {'key': 'Slovakia', 'count': 1},\n",
       " {'key': 'Vietnam', 'count': 1}]"
      ]
     },
     "execution_count": 5,
     "metadata": {},
     "output_type": "execute_result"
    }
   ],
   "source": [
    "data"
   ]
  },
  {
   "cell_type": "markdown",
   "id": "a6c5cd8b-3ddf-4613-9f9b-fe5878a7617a",
   "metadata": {},
   "source": [
    "# 2.0 Definizione problema"
   ]
  },
  {
   "cell_type": "code",
   "execution_count": 6,
   "id": "dde9e88c-7b3d-4d32-8eec-cfbee55eaebf",
   "metadata": {},
   "outputs": [],
   "source": [
    "# Capacità massima per gruppo\n",
    "capacity = 1000\n",
    "\n",
    "# Prepara i dati\n",
    "countries = [item['key'] for item in data]\n",
    "counts = [item['count'] for item in data]\n",
    "num_items = len(countries)\n",
    "\n",
    "# Stima superiore del numero di gruppi (ogni paese in un gruppo separato)\n",
    "num_bins = num_items"
   ]
  },
  {
   "cell_type": "code",
   "execution_count": 7,
   "id": "0ae17c56-885e-4e47-8393-21fd2aa9f070",
   "metadata": {},
   "outputs": [
    {
     "name": "stderr",
     "output_type": "stream",
     "text": [
      "/opt/conda/lib/python3.10/site-packages/pulp/pulp.py:1298: UserWarning: Spaces are not permitted in the name. Converted to '_'\n",
      "  warnings.warn(\"Spaces are not permitted in the name. Converted to '_'\")\n"
     ]
    },
    {
     "name": "stdout",
     "output_type": "stream",
     "text": [
      "Welcome to the CBC MILP Solver \n",
      "Version: 2.10.3 \n",
      "Build Date: Dec 15 2019 \n",
      "\n",
      "command line - /opt/conda/lib/python3.10/site-packages/pulp/solverdir/cbc/linux/64/cbc /tmp/f5cbdbfaf2a84308ba7e7b20432a99d5-pulp.mps -timeMode elapsed -branch -printingOptions all -solution /tmp/f5cbdbfaf2a84308ba7e7b20432a99d5-pulp.sol (default strategy 1)\n",
      "At line 2 NAME          MODEL\n",
      "At line 3 ROWS\n",
      "At line 285 COLUMNS\n",
      "At line 30246 RHS\n",
      "At line 30527 BOUNDS\n",
      "At line 35568 ENDATA\n",
      "Problem MODEL has 280 rows, 5040 columns and 19810 elements\n",
      "Coin0008I MODEL read with 0 errors\n",
      "Option for timeMode changed from cpu to elapsed\n",
      "Continuous objective value is 21.94 - 0.01 seconds\n",
      "Cgl0004I processed model has 210 rows, 4970 columns (4970 integer (4900 of which binary)) and 14770 elements\n",
      "Cutoff increment increased from 1e-05 to 0.9999\n",
      "Cbc0045I 70 integer variables out of 4970 objects (4970 integer) have cost of 1 - high priority\n",
      "Cbc0045I branch on satisfied N create fake objective N random cost N\n",
      "Cbc0038I Initial state - 25 integers unsatisfied sum - 3.85633\n",
      "Cbc0038I Pass   1: suminf.    4.31633 (26) obj. 21.94 iterations 125\n",
      "Cbc0038I Pass   2: suminf.    4.00000 (25) obj. 21.94 iterations 2\n",
      "Cbc0038I Solution found of 21.94\n",
      "Cbc0038I Branch and bound needed to clear up 25 general integers\n",
      "Cbc0038I Full problem 210 rows 4970 columns, reduced to 0 rows 0 columns\n",
      "Cbc0038I Cleaned solution of 40\n",
      "Cbc0038I Before mini branch and bound, 4942 integers at bound fixed and 0 continuous\n",
      "Cbc0038I Full problem 210 rows 4970 columns, reduced to 2 rows 3 columns\n",
      "Cbc0038I Mini branch and bound did not improve solution (0.12 seconds)\n",
      "Cbc0038I Round again with cutoff of 37.2941\n",
      "Cbc0038I Pass   3: suminf.    4.31633 (26) obj. 21.94 iterations 0\n",
      "Cbc0038I Pass   4: suminf.    4.00000 (25) obj. 21.94 iterations 2\n",
      "Cbc0038I Solution found of 21.94\n",
      "Cbc0038I Branch and bound needed to clear up 25 general integers\n",
      "Cbc0038I Mini branch and bound could not fix general integers\n",
      "Cbc0038I No solution found this major pass\n",
      "Cbc0038I Before mini branch and bound, 4942 integers at bound fixed and 0 continuous\n",
      "Cbc0038I Full problem 210 rows 4970 columns, reduced to 2 rows 3 columns\n",
      "Cbc0038I Mini branch and bound did not improve solution (0.14 seconds)\n",
      "Cbc0038I After 0.14 seconds - Feasibility pump exiting with objective of 40 - took 0.02 seconds\n",
      "Cbc0012I Integer solution of 40 found by feasibility pump after 0 iterations and 0 nodes (0.14 seconds)\n",
      "Cbc0038I Full problem 210 rows 4970 columns, reduced to 2 rows 3 columns\n",
      "Cbc0012I Integer solution of 25 found by DiveCoefficient after 1669 iterations and 0 nodes (0.48 seconds)\n",
      "Cbc0031I 40 added rows had average density of 45.65\n",
      "Cbc0013I At root node, 40 cuts changed objective from 21.94 to 21.94 in 10 passes\n",
      "Cbc0014I Cut generator 0 (Probing) - 0 row cuts average 0.0 elements, 0 column cuts (0 active)  in 0.152 seconds - new frequency is -100\n",
      "Cbc0014I Cut generator 1 (Gomory) - 165 row cuts average 349.8 elements, 0 column cuts (0 active)  in 0.027 seconds - new frequency is 1\n",
      "Cbc0014I Cut generator 2 (Knapsack) - 0 row cuts average 0.0 elements, 0 column cuts (0 active)  in 0.002 seconds - new frequency is -100\n",
      "Cbc0014I Cut generator 3 (Clique) - 0 row cuts average 0.0 elements, 0 column cuts (0 active)  in 0.000 seconds - new frequency is -100\n",
      "Cbc0014I Cut generator 4 (MixedIntegerRounding2) - 243 row cuts average 28.9 elements, 0 column cuts (0 active)  in 0.009 seconds - new frequency is 1\n",
      "Cbc0014I Cut generator 5 (FlowCover) - 0 row cuts average 0.0 elements, 0 column cuts (0 active)  in 0.001 seconds - new frequency is -100\n",
      "Cbc0014I Cut generator 6 (TwoMirCuts) - 174 row cuts average 124.9 elements, 0 column cuts (0 active)  in 0.014 seconds - new frequency is -100\n",
      "Cbc0010I After 0 nodes, 1 on tree, 25 best solution, best possible 21.94 (0.56 seconds)\n",
      "Cbc0012I Integer solution of 24 found by DiveCoefficient after 1928 iterations and 3 nodes (0.63 seconds)\n",
      "Cbc0012I Integer solution of 23 found by DiveCoefficient after 2010 iterations and 3 nodes (0.64 seconds)\n",
      "Cbc0012I Integer solution of 22 found by DiveCoefficient after 2206 iterations and 8 nodes (0.72 seconds)\n",
      "Cbc0001I Search completed - best objective 22, took 2206 iterations and 8 nodes (0.72 seconds)\n",
      "Cbc0032I Strong branching done 40 times (731 iterations), fathomed 0 nodes and fixed 0 variables\n",
      "Cbc0035I Maximum depth 7, 0 variables fixed on reduced cost\n",
      "Cuts at root node changed objective from 21.94 to 21.94\n",
      "Probing was tried 10 times and created 0 cuts of which 0 were active after adding rounds of cuts (0.152 seconds)\n",
      "Gomory was tried 21 times and created 165 cuts of which 0 were active after adding rounds of cuts (0.029 seconds)\n",
      "Knapsack was tried 10 times and created 0 cuts of which 0 were active after adding rounds of cuts (0.002 seconds)\n",
      "Clique was tried 10 times and created 0 cuts of which 0 were active after adding rounds of cuts (0.000 seconds)\n",
      "MixedIntegerRounding2 was tried 21 times and created 306 cuts of which 0 were active after adding rounds of cuts (0.015 seconds)\n",
      "FlowCover was tried 10 times and created 0 cuts of which 0 were active after adding rounds of cuts (0.001 seconds)\n",
      "TwoMirCuts was tried 10 times and created 174 cuts of which 0 were active after adding rounds of cuts (0.014 seconds)\n",
      "ZeroHalf was tried 1 times and created 0 cuts of which 0 were active after adding rounds of cuts (0.000 seconds)\n",
      "\n",
      "Result - Optimal solution found\n",
      "\n",
      "Objective value:                22.00000000\n",
      "Enumerated nodes:               8\n",
      "Total iterations:               2206\n",
      "Time (CPU seconds):             0.72\n",
      "Time (Wallclock seconds):       0.73\n",
      "\n",
      "Option for printingOptions changed from normal to all\n",
      "Total time (CPU seconds):       0.72   (Wallclock seconds):       0.74\n",
      "\n"
     ]
    },
    {
     "data": {
      "text/plain": [
       "1"
      ]
     },
     "execution_count": 7,
     "metadata": {},
     "output_type": "execute_result"
    }
   ],
   "source": [
    "# Creazione del problema\n",
    "prob = pulp.LpProblem(\"Bin Packing with API Cost Minimization\", pulp.LpMinimize)\n",
    "\n",
    "# Variabili di decisione\n",
    "x = pulp.LpVariable.dicts('x', ((i, j) for i in range(num_items) for j in range(num_bins)), cat='Binary')\n",
    "y = pulp.LpVariable.dicts('y', (j for j in range(num_bins)), cat='Binary')\n",
    "\n",
    "# Variabili per il costo per gruppo\n",
    "c = pulp.LpVariable.dicts('c', (j for j in range(num_bins)), lowBound=0, cat='Integer')\n",
    "\n",
    "# Funzione obiettivo: minimizzare il costo totale\n",
    "prob += pulp.lpSum(c[j] for j in range(num_bins))\n",
    "\n",
    "# Vincoli\n",
    "\n",
    "# Ogni paese deve essere assegnato esattamente a un gruppo\n",
    "for i in range(num_items):\n",
    "    prob += pulp.lpSum(x[(i, j)] for j in range(num_bins)) == 1\n",
    "\n",
    "# La somma dei conteggi in ogni gruppo non deve superare la capacità\n",
    "for j in range(num_bins):\n",
    "    prob += pulp.lpSum(counts[i] * x[(i, j)] for i in range(num_items)) <= capacity * y[j]\n",
    "\n",
    "# Relazione tra c_j e il totale nel gruppo j\n",
    "for j in range(num_bins):\n",
    "    total_in_bin = pulp.lpSum(counts[i] * x[(i, j)] for i in range(num_items))\n",
    "    prob += total_in_bin <= c[j] * 100\n",
    "    prob += total_in_bin >= c[j] * 100 - 99\n",
    "\n",
    "# Risoluzione del problema\n",
    "prob.solve()"
   ]
  },
  {
   "cell_type": "code",
   "execution_count": 8,
   "id": "3d6fe8c7-1ccc-4f31-ad80-9bb7f08b70f1",
   "metadata": {},
   "outputs": [
    {
     "name": "stdout",
     "output_type": "stream",
     "text": [
      "Status: Optimal\n"
     ]
    }
   ],
   "source": [
    "print(\"Status:\", pulp.LpStatus[prob.status])\n",
    "\n",
    "# Raccolta dei gruppi utilizzati\n",
    "bins = {}\n",
    "for j in range(num_bins):\n",
    "    if y[j].varValue > 0.5:\n",
    "        bin_items = []\n",
    "        total_count = 0\n",
    "        for i in range(num_items):\n",
    "            if x[(i, j)].varValue > 0.5:\n",
    "                bin_items.append((countries[i], counts[i]))\n",
    "                total_count += counts[i]\n",
    "        if total_count > 0:\n",
    "            cost = math.ceil(total_count / 100)\n",
    "            bins[j] = {'items': bin_items, 'total_count': total_count, 'cost': cost}"
   ]
  },
  {
   "cell_type": "code",
   "execution_count": 9,
   "id": "208ace14-8561-4285-82ec-d18509a84c0f",
   "metadata": {},
   "outputs": [
    {
     "name": "stdout",
     "output_type": "stream",
     "text": [
      "Numero totale di gruppi individuati: 9\n",
      "Costo totale (numero di crediti spesi): 22\n",
      "==================================================\n",
      "Gruppo 1: Totale = 398 | Costo = 4 crediti\n",
      " - France: 246\n",
      " - Brazil: 108\n",
      " - Canada: 25\n",
      " - Iraq: 9\n",
      " - Palestinian Territory: 4\n",
      " - Albania: 3\n",
      " - Cyprus: 2\n",
      " - Jordan: 1\n",
      "--------------------------------------------------\n",
      "Gruppo 2: Totale = 100 | Costo = 1 crediti\n",
      " - Italy: 39\n",
      " - Serbia: 23\n",
      " - Colombia: 14\n",
      " - Pakistan: 14\n",
      " - Austria: 6\n",
      " - Hungary: 2\n",
      " - Bolivia: 1\n",
      " - Montenegro: 1\n",
      "--------------------------------------------------\n",
      "Gruppo 3: Totale = 400 | Costo = 4 crediti\n",
      " - Spain: 392\n",
      " - Croatia: 7\n",
      " - Malta: 1\n",
      "--------------------------------------------------\n",
      "Gruppo 4: Totale = 100 | Costo = 1 crediti\n",
      " - Bulgaria: 41\n",
      " - Romania: 32\n",
      " - Israel: 10\n",
      " - Costa Rica: 4\n",
      " - Australia: 3\n",
      " - Dominican Republic: 2\n",
      " - Paraguay: 2\n",
      " - Armenia: 1\n",
      " - Egypt: 1\n",
      " - El Salvador: 1\n",
      " - French Polynesia: 1\n",
      " - Nepal: 1\n",
      " - Norway: 1\n",
      "--------------------------------------------------\n",
      "Gruppo 5: Totale = 100 | Costo = 1 crediti\n",
      " - United Kingdom: 59\n",
      " - Bosnia and Herzegovina: 21\n",
      " - Portugal: 10\n",
      " - Czech Republic: 3\n",
      " - South Africa: 3\n",
      " - Iceland: 2\n",
      " - United Arab Emirates: 2\n",
      "--------------------------------------------------\n",
      "Gruppo 6: Totale = 196 | Costo = 2 crediti\n",
      " - United States: 139\n",
      " - India: 18\n",
      " - Poland: 14\n",
      " - Russia: 8\n",
      " - Indonesia: 5\n",
      " - Macedonia: 3\n",
      " - Peru: 3\n",
      " - Ireland: 2\n",
      " - Chile: 1\n",
      " - Honduras: 1\n",
      " - Myanmar: 1\n",
      " - Slovakia: 1\n",
      "--------------------------------------------------\n",
      "Gruppo 7: Totale = 500 | Costo = 5 crediti\n",
      " - Netherlands: 454\n",
      " - Singapore: 15\n",
      " - Lithuania: 12\n",
      " - Sweden: 7\n",
      " - Switzerland: 6\n",
      " - Belgium: 4\n",
      " - Japan: 1\n",
      " - Morocco: 1\n",
      "--------------------------------------------------\n",
      "Gruppo 8: Totale = 100 | Costo = 1 crediti\n",
      " - Finland: 55\n",
      " - Thailand: 19\n",
      " - Turkey: 16\n",
      " - Estonia: 3\n",
      " - Tunisia: 3\n",
      " - Argentina: 2\n",
      " - Denmark: 1\n",
      " - Ecuador: 1\n",
      "--------------------------------------------------\n",
      "Gruppo 9: Totale = 300 | Costo = 3 crediti\n",
      " - Germany: 267\n",
      " - Ukraine: 32\n",
      " - Vietnam: 1\n",
      "--------------------------------------------------\n"
     ]
    }
   ],
   "source": [
    "# Calcolo del costo totale\n",
    "total_cost = sum(bin_info['cost'] for bin_info in bins.values())\n",
    "\n",
    "# Numero totale di gruppi utilizzati\n",
    "total_groups = len(bins)\n",
    "print(f\"Numero totale di gruppi individuati: {total_groups}\")\n",
    "print(f\"Costo totale (numero di crediti spesi): {total_cost}\")\n",
    "print(\"=\" * 50)\n",
    "\n",
    "# Visualizzazione dei gruppi\n",
    "group_number = 1\n",
    "for bin_index, bin_info in bins.items():\n",
    "    print(f\"Gruppo {group_number}: Totale = {bin_info['total_count']} | Costo = {bin_info['cost']} crediti\")\n",
    "    for country, count in bin_info['items']:\n",
    "        print(f\" - {country}: {count}\")\n",
    "    print(\"-\" * 50)\n",
    "    group_number += 1"
   ]
  },
  {
   "cell_type": "code",
   "execution_count": null,
   "id": "fedfe0bc-7a9d-42da-ac01-983c6ef704ea",
   "metadata": {},
   "outputs": [],
   "source": []
  }
 ],
 "metadata": {
  "kernelspec": {
   "display_name": "Python 3 (ipykernel)",
   "language": "python",
   "name": "python3"
  },
  "language_info": {
   "codemirror_mode": {
    "name": "ipython",
    "version": 3
   },
   "file_extension": ".py",
   "mimetype": "text/x-python",
   "name": "python",
   "nbconvert_exporter": "python",
   "pygments_lexer": "ipython3",
   "version": "3.10.11"
  }
 },
 "nbformat": 4,
 "nbformat_minor": 5
}
